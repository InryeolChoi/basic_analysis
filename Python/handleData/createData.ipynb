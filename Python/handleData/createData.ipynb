{
 "cells": [
  {
   "cell_type": "markdown",
   "metadata": {},
   "source": [
    "# 데이터 생성하기"
   ]
  },
  {
   "cell_type": "markdown",
   "metadata": {},
   "source": [
    "데이터를 직접 생성해보는 것도 데이터 과학의 중요한 영역이 되었다.  \n",
    "다양한 라이브러리를 통해 데이터를 직접 만들어보자."
   ]
  },
  {
   "cell_type": "markdown",
   "metadata": {},
   "source": [
    "* 넘파이를 사용하여 1차원 및 2차원 데이터를 생성하기.\n",
    "* 판다스를 사용하여 Series와 DataFrame을 다루기. \n",
    "* DataFrame에 행과 열을 설정해보기\n",
    "* Series로 날짜 데이터를 넣어보기"
   ]
  },
  {
   "cell_type": "markdown",
   "metadata": {},
   "source": [
    "# Numpy\n",
    "넘파이(Numpy)는 파이썬에서 대규모 다차원 배열과 행렬을 지원하는 라이브러리.  \n",
    "넘파이를 사용해 데이터를 만들어보자."
   ]
  },
  {
   "cell_type": "markdown",
   "metadata": {},
   "source": [
    "## 1차원 데이터"
   ]
  },
  {
   "cell_type": "code",
   "execution_count": null,
   "metadata": {},
   "outputs": [],
   "source": [
    "# 넘파이 라이브러리 임포트\n",
    "import numpy as np\n",
    "\n",
    "# 1차원 데이터 생성\n",
    "data_1d = np.array([1, 2, 3, 4, 5])\n",
    "print(\"1차원 데이터:\", data_1d)"
   ]
  },
  {
   "cell_type": "code",
   "execution_count": null,
   "metadata": {},
   "outputs": [],
   "source": [
    "arr1 = np.arange(0, 9); arr1\n",
    "print(arr1.dtype) # 데이터 타입 확인"
   ]
  },
  {
   "cell_type": "code",
   "execution_count": null,
   "metadata": {},
   "outputs": [],
   "source": [
    "arr1 = arr1.astype(float) # 데이터 변환\n",
    "print(arr1.dtype)"
   ]
  },
  {
   "cell_type": "markdown",
   "metadata": {},
   "source": [
    "## 2차원 데이터"
   ]
  },
  {
   "cell_type": "code",
   "execution_count": null,
   "metadata": {},
   "outputs": [],
   "source": [
    "# 2차원 데이터 생성\n",
    "arr1 = np.array([[1, 2, 3], [4, 5, 6], [7, 8, 9]])\n",
    "arr1"
   ]
  },
  {
   "cell_type": "code",
   "execution_count": null,
   "metadata": {},
   "outputs": [],
   "source": [
    "# reshape() 이용하기\n",
    "arr2 = arr1.reshape(3,3)\n",
    "arr2"
   ]
  },
  {
   "cell_type": "markdown",
   "metadata": {},
   "source": [
    "# Pandas\n",
    "* Pandas를 이용해 데이터를 만들어보자"
   ]
  },
  {
   "cell_type": "markdown",
   "metadata": {},
   "source": [
    "## Series 다루기\n",
    "Series는 1차원 배열과 같은 데이터 구조로, 인덱스를 가집니다."
   ]
  },
  {
   "cell_type": "code",
   "execution_count": null,
   "metadata": {},
   "outputs": [],
   "source": [
    "# 판다스 라이브러리 임포트\n",
    "import pandas as pd\n",
    "\n",
    "# Series 생성\n",
    "series_data = pd.Series([10, 20, 30, 40, 50])\n",
    "print(\"Series 데이터:\")\n",
    "print(series_data)"
   ]
  },
  {
   "cell_type": "markdown",
   "metadata": {},
   "source": [
    "## DataFrame 다루기\n",
    "DataFrame은 2차원 배열과 같은 데이터 구조로, 행과 열을 가집니다."
   ]
  },
  {
   "cell_type": "code",
   "execution_count": null,
   "metadata": {},
   "outputs": [],
   "source": [
    "# DataFrame 생성\n",
    "data = {\n",
    "    'A': [1, 2, 3, 4],\n",
    "    'B': [5, 6, 7, 8],\n",
    "    'C': [9, 10, 11, 12]\n",
    "}\n",
    "df = pd.DataFrame(data)\n",
    "print(\"DataFrame 데이터:\")\n",
    "print(df)"
   ]
  },
  {
   "cell_type": "markdown",
   "metadata": {},
   "source": [
    "## DataFrame에 행과 열 설정하기\n",
    "DataFrame의 행과 열을 설정하는 방법을 보여줍니다."
   ]
  },
  {
   "cell_type": "code",
   "execution_count": null,
   "metadata": {},
   "outputs": [],
   "source": [
    "# DataFrame에 행과 열 설정\n",
    "df.index = ['Row1', 'Row2', 'Row3', 'Row4']\n",
    "df.columns = ['Col1', 'Col2', 'Col3']\n",
    "print(\"행과 열이 설정된 DataFrame:\")\n",
    "print(df)"
   ]
  },
  {
   "cell_type": "markdown",
   "metadata": {},
   "source": [
    "## Series로 날짜 데이터 넣기\n",
    "Series에 날짜 데이터를 넣는 방법을 알아보자."
   ]
  },
  {
   "cell_type": "code",
   "execution_count": null,
   "metadata": {},
   "outputs": [],
   "source": [
    "# 날짜 데이터 생성\n",
    "date = pd.date_range(start='2023-01-01', periods=5, freq='D')\n",
    "print(\"날짜 Series 데이터:\")\n",
    "pd.DataFrame(date)"
   ]
  },
  {
   "cell_type": "code",
   "execution_count": null,
   "metadata": {},
   "outputs": [],
   "source": [
    "date = pd.date_range(start='2022-04-24', end='2022-04-27')\n",
    "pd.DataFrame(date)"
   ]
  },
  {
   "cell_type": "code",
   "execution_count": null,
   "metadata": {},
   "outputs": [],
   "source": [
    "date = pd.date_range(start='2022-01-05', end='2022-10-10', periods = 6)\n",
    "pd.DataFrame(date)"
   ]
  },
  {
   "cell_type": "code",
   "execution_count": null,
   "metadata": {},
   "outputs": [],
   "source": [
    "date = pd.date_range(start='2022-01-01', end='2022-12-12', freq = 'D')\n",
    "pd.DataFrame(date)"
   ]
  },
  {
   "cell_type": "code",
   "execution_count": null,
   "metadata": {},
   "outputs": [],
   "source": [
    "date = pd.date_range(start='2022-01-01', end='2022-12-30', freq = '2D')\n",
    "pd.DataFrame(date)"
   ]
  },
  {
   "cell_type": "code",
   "execution_count": null,
   "metadata": {},
   "outputs": [],
   "source": [
    "date = pd.date_range(start='2022-01-01', periods = 4, freq = 'W')\n",
    "pd.DataFrame(date)"
   ]
  },
  {
   "cell_type": "code",
   "execution_count": null,
   "metadata": {},
   "outputs": [],
   "source": [
    "date = pd.date_range(start='2022-01-01', periods = 4, freq = 'QS')\n",
    "pd.DataFrame(data)"
   ]
  }
 ],
 "metadata": {
  "kernelspec": {
   "display_name": "Python 3",
   "language": "python",
   "name": "python3"
  },
  "language_info": {
   "codemirror_mode": {
    "name": "ipython",
    "version": 3
   },
   "file_extension": ".py",
   "mimetype": "text/x-python",
   "name": "python",
   "nbconvert_exporter": "python",
   "pygments_lexer": "ipython3",
   "version": "3.12.4"
  }
 },
 "nbformat": 4,
 "nbformat_minor": 4
}
