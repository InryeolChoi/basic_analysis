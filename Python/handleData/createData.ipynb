{
    "cells": [
     {
      "cell_type": "markdown",
      "metadata": {},
      "source": [
       "# 데이터 생성하기"
      ]
     },
     {
      "cell_type": "markdown",
      "metadata": {},
      "source": [
       "데이터를 직접 생성해보는 것도 데이터 과학의 중요한 영역이 되었다.  \n",
       "다양한 라이브러리를 통해 데이터를 직접 만들어보자."
      ]
     },
     {
      "cell_type": "markdown",
      "metadata": {},
      "source": [
       "* 넘파이를 사용하여 1차원 및 2차원 데이터를 생성하기.\n",
       "* 판다스를 사용하여 Series와 DataFrame을 다루기. \n",
       "* DataFrame에 행과 열을 설정해보기\n",
       "* Series로 날짜 데이터를 넣어보기"
      ]
     },
     {
      "cell_type": "markdown",
      "metadata": {},
      "source": [
       "# Numpy\n",
       "넘파이(Numpy)는 파이썬에서 대규모 다차원 배열과 행렬을 지원하는 라이브러리.  \n",
       "넘파이를 사용해 데이터를 만들어보자."
      ]
     },
     {
      "cell_type": "markdown",
      "metadata": {},
      "source": [
       "## 1차원 데이터"
      ]
     },
     {
      "cell_type": "code",
      "execution_count": 1,
      "metadata": {},
      "outputs": [
       {
        "name": "stdout",
        "output_type": "stream",
        "text": [
         "1차원 데이터: [1 2 3 4 5]\n"
        ]
       }
      ],
      "source": [
       "# 넘파이 라이브러리 임포트\n",
       "import numpy as np\n",
       "\n",
       "# 1차원 데이터 생성\n",
       "data_1d = np.array([1, 2, 3, 4, 5])\n",
       "print(\"1차원 데이터:\", data_1d)"
      ]
     },
     {
      "cell_type": "markdown",
      "metadata": {},
      "source": [
       "넘파이를 사용하면 다양한 방식으로 1차원 데이터를 생성할 수 있다. 예를 들어, `arange` 함수는 특정 범위의 값을 생성할 수 있고, `astype` 함수는 데이터 타입을 변환할 수 있다."
      ]
     },
     {
      "cell_type": "code",
      "execution_count": 2,
      "metadata": {},
      "outputs": [
       {
        "name": "stdout",
        "output_type": "stream",
        "text": [
         "int64\n"
        ]
       }
      ],
      "source": [
       "arr1 = np.arange(0, 9); arr1\n",
       "print(arr1.dtype) # 데이터 타입 확인"
      ]
     },
     {
      "cell_type": "code",
      "execution_count": 3,
      "metadata": {},
      "outputs": [
       {
        "name": "stdout",
        "output_type": "stream",
        "text": [
         "float64\n"
        ]
       }
      ],
      "source": [
       "arr1 = arr1.astype(float) # 데이터 변환\n",
       "print(arr1.dtype)"
      ]
     },
     {
      "cell_type": "markdown",
      "metadata": {},
      "source": [
       "## 2차원 데이터"
      ]
     },
     {
      "cell_type": "code",
      "execution_count": 4,
      "metadata": {},
      "outputs": [
       {
        "data": {
         "text/plain": [
          "array([[1, 2, 3],\n",
          "       [4, 5, 6],\n",
          "       [7, 8, 9]])"
         ]
        },
        "execution_count": 4,
        "metadata": {},
        "output_type": "execute_result"
       }
      ],
      "source": [
       "# 2차원 데이터 생성\n",
       "arr1 = np.array([[1, 2, 3], [4, 5, 6], [7, 8, 9]])\n",
       "arr1"
      ]
     },
     {
      "cell_type": "markdown",
      "metadata": {},
      "source": [
       "2차원 데이터를 다루기 위해서는 `reshape` 함수를 사용하여 배열의 형태를 변경할 수 있다. 예를 들어, `reshape(3,3)`는 3x3 행렬로 데이터를 변환한다."
      ]
     },
     {
      "cell_type": "code",
      "execution_count": 5,
      "metadata": {},
      "outputs": [
       {
        "data": {
         "text/plain": [
          "array([[1, 2, 3],\n",
          "       [4, 5, 6],\n",
          "       [7, 8, 9]])"
         ]
        },
        "execution_count": 5,
        "metadata": {},
        "output_type": "execute_result"
       }
      ],
      "source": [
       "# reshape() 이용하기\n",
       "arr2 = arr1.reshape(3,3)\n",
       "arr2"
      ]
     },
     {
      "cell_type": "markdown",
      "metadata": {},
      "source": [
       "또한 `eye` 함수는 단위 행렬을 생성하고, `diag` 함수는 대각 행렬을 생성할 수 있다."
      ]
     },
     {
      "cell_type": "code",
      "execution_count": 6,
      "metadata": {},
      "outputs": [
       {
        "data": {
         "text/plain": [
          "array([[1., 0., 0., 0., 0.],\n",
          "       [0., 1., 0., 0., 0.],\n",
          "       [0., 0., 1., 0., 0.],\n",
          "       [0., 0., 0., 1., 0.],\n",
          "       [0., 0., 0., 0., 1.]])"
         ]
        },
        "execution_count": 6,
        "metadata": {},
        "output_type": "execute_result"
       }
      ],
      "source": [
       "# eye() 사용하기\n",
       "d1 = np.eye(5)\n",
       "d1"
      ]
     },
     {
      "cell_type": "code",
      "execution_count": 7,
      "metadata": {},
      "outputs": [
       {
        "data": {
         "text/plain": [
          "array([[1, 0, 0, 0],\n",
          "       [0, 2, 0, 0],\n",
          "       [0, 0, 3, 0],\n",
          "       [0, 0, 0, 4]])"
         ]
        },
        "execution_count": 7,
        "metadata": {},
        "output_type": "execute_result"
       }
      ],
      "source": [
       "# diag() 사용하기\n",
       "d2 = np.diag([i for i in range(1, 5)])\n",
       "d2"
      ]
     },
     {
      "cell_type": "markdown",
      "metadata": {},
      "source": [
       "# Pandas\n",
       "* Pandas를 이용해 데이터를 만들어보자"
      ]
     },
     {
      "cell_type": "markdown",
      "metadata": {},
      "source": [
       "## Series 다루기\n",
       "Series는 1차원 배열과 같은 데이터 구조로, 인덱스를 가집니다."
      ]
     },
     {
      "cell_type": "code",
      "execution_count": 8,
      "metadata": {},
      "outputs": [
       {
        "name": "stdout",
        "output_type": "stream",
        "text": [
         "Series 데이터:\n",
         "0    10\n",
         "1    20\n",
         "2    30\n",
         "3    40\n",
         "4    50\n",
         "dtype: int64\n"
        ]
       }
      ],
      "source": [
       "# 판다스 라이브러리 임포트\n",
       "import pandas as pd\n",
       "\n",
       "# Series 생성\n",
       "series_data = pd.Series([10, 20, 30, 40, 50])\n",
       "print(\"Series 데이터:\")\n",
       "print(series_data)"
      ]
     },
     {
      "cell_type": "markdown",
      "metadata": {},
      "source": [
       "## DataFrame 다루기\n",
       "DataFrame은 2차원 배열과 같은 데이터 구조로, 행과 열을 가집니다."
      ]
     },
     {
      "cell_type": "code",
      "execution_count": 9,
      "metadata": {},
      "outputs": [
        {
        "name": "stdout",
        "output_type": "stream"
        }
        ]
    }
]
}