{
 "cells": [
  {
   "cell_type": "code",
   "execution_count": null,
   "metadata": {},
   "outputs": [],
   "source": [
    "year = [str(i) for i in range(2011, 2018)]\n",
    "ktx_data = pd.DataFrame({'경부': [39060, 39896, 42005, 43621, 41702, 41266, 32427],\n",
    "                         '호남': [7313, 6967, 6873, 6626, 8675, 10622, 9228],\n",
    "                         '경전': [3627, 4168, 4088, 4424, 4606, 4984, 5570],\n",
    "                         '전라': [309, 1771, 1954, 2244, 3146, 3945, 5766],\n",
    "                         '동해': [None, None, None, None, 2395, 3786, 6667]},\n",
    "                        index = year)\n",
    "df1 = pd.DataFrame({'Class1': [95, 92, 98, 100],\n",
    "                    'Class2': [91, 93, 97, 99]})\n",
    "df2 = pd.DataFrame({'Class1': [87, 89],\n",
    "                    'Class2': [89, 90]})\n",
    "df3 = pd.DataFrame({'Class3': [96, 83, 77, 84]})\n",
    "dfA = pd.DataFrame({'A': [32, 74, 90, 15], 'B': [62, 10, 25, 46]})\n",
    "dfB = pd.DataFrame({'A': [51, 32, 90, 20], 'B':[10, 25, 46, 35]})\n",
    "# DataFrame 활용: 데이터 선택\n",
    "ktx_data.index\n",
    "ktx_data.columns\n",
    "ktx_data.values\n",
    "ktx_data.head(3)\n",
    "ktx_data.tail(3)\n",
    "ktx_data[1:3]\n",
    "ktx_data.loc['2011'] # loc[index]\n",
    "ktx_data.iloc[1]\n",
    "ktx_data['경부'] # 그냥[columns]\n",
    "ktx_data.T\n",
    "ktx_data['호남'].tolist()\n",
    "\n",
    "# DataFrame 활용: 데이터 통합\n",
    "df1.append(df2, ignore_index=True)\n",
    "df1.join(df3)\n",
    "dfA.merge(dfB, how='inner', on='A')\n",
    "dfA.merge(dfB, how='outer', on='A')\n",
    "dfA.merge(dfB, how='left', on='B')\n",
    "dfA.merge(dfB, how='right', on='B')"
   ]
  }
 ],
 "metadata": {
  "language_info": {
   "name": "python"
  }
 },
 "nbformat": 4,
 "nbformat_minor": 2
}
