{
 "cells": [
  {
   "cell_type": "markdown",
   "metadata": {},
   "source": [
    "# 데이터 선택하기\n",
    "* 데이터 중 일부를 선택하고, 조정하는 방법을 알아보자\n",
    "* 이는 데이터 전처리에서 중요한 역할을 한다. "
   ]
  },
  {
   "cell_type": "code",
   "execution_count": 2,
   "metadata": {},
   "outputs": [],
   "source": [
    "import numpy as np\n",
    "import pandas as pd"
   ]
  },
  {
   "cell_type": "code",
   "execution_count": 3,
   "metadata": {},
   "outputs": [],
   "source": [
    "# 넘파이: 데이터 만들기\n",
    "arr1 = np.arange(0, 9); arr1\n",
    "arr2 = arr1.reshape(3,3)\n",
    "arr3 = np.array([0, 5, 4, 2, 3, 12, 11, -1, 6]).reshape(3,3)\n",
    "arr4 = np.arange(1, 11).reshape(2, 5)"
   ]
  },
  {
   "cell_type": "code",
   "execution_count": 4,
   "metadata": {},
   "outputs": [
    {
     "name": "stdout",
     "output_type": "stream",
     "text": [
      "arr1[[1,3,4]] : [1 3 4]\n",
      "arr3[0, 1] : 5\n",
      "arr4[1, 2] : 8\n",
      "arr4[:3, 1:] : [[ 2  3  4  5]\n",
      " [ 7  8  9 10]]\n",
      "arr4.sum(axis = 0)) : [ 7  9 11 13 15]\n"
     ]
    }
   ],
   "source": [
    "print(f\"arr1[[1,3,4]] : {arr1[[1,3,4]]}\")\n",
    "print(f\"arr3[0, 1] : {arr3[0, 1]}\")\n",
    "print(f\"arr4[1, 2] : {arr4[1, 2]}\")\n",
    "print(f\"arr4[:3, 1:] : {arr4[:3, 1:]}\")\n",
    "print(f\"arr4.sum(axis = 0)) : {arr4.sum(axis = 0)}\")"
   ]
  },
  {
   "cell_type": "markdown",
   "metadata": {},
   "source": [
    "# 데이터 조작하기"
   ]
  },
  {
   "cell_type": "markdown",
   "metadata": {},
   "source": [
    "* 데이터에서 빈값을 채워보기\n",
    "* 검색, 인덱싱, 슬라이싱"
   ]
  },
  {
   "cell_type": "markdown",
   "metadata": {},
   "source": [
    "## 빈값 채워보기"
   ]
  },
  {
   "cell_type": "code",
   "execution_count": 5,
   "metadata": {},
   "outputs": [
    {
     "name": "stdout",
     "output_type": "stream",
     "text": [
      "원본 데이터프레임:\n",
      "     A    B  C\n",
      "0  1.0  NaN  1\n",
      "1  2.0  2.0  2\n",
      "2  NaN  3.0  3\n",
      "3  4.0  4.0  4\n",
      "4  5.0  NaN  5\n"
     ]
    }
   ],
   "source": [
    "# 데이터프레임 생성\n",
    "data = {\n",
    "    'A': [1, 2, np.nan, 4, 5],\n",
    "    'B': [np.nan, 2, 3, 4, np.nan],\n",
    "    'C': [1, 2, 3, 4, 5]\n",
    "}\n",
    "df = pd.DataFrame(data)\n",
    "print(\"원본 데이터프레임:\")\n",
    "print(df)"
   ]
  },
  {
   "cell_type": "code",
   "execution_count": 6,
   "metadata": {},
   "outputs": [
    {
     "name": "stdout",
     "output_type": "stream",
     "text": [
      "\n",
      "평균값으로 채운 데이터프레임:\n",
      "     A    B  C\n",
      "0  1.0  3.0  1\n",
      "1  2.0  2.0  2\n",
      "2  3.0  3.0  3\n",
      "3  4.0  4.0  4\n",
      "4  5.0  3.0  5\n"
     ]
    }
   ],
   "source": [
    "# 평균값으로 채우기\n",
    "df_filled_mean = df.fillna(df.mean())\n",
    "print(\"\\n평균값으로 채운 데이터프레임:\")\n",
    "print(df_filled_mean)"
   ]
  },
  {
   "cell_type": "code",
   "execution_count": 7,
   "metadata": {},
   "outputs": [
    {
     "name": "stdout",
     "output_type": "stream",
     "text": [
      "\n",
      "중간값으로 채운 데이터프레임:\n",
      "     A    B  C\n",
      "0  1.0  3.0  1\n",
      "1  2.0  2.0  2\n",
      "2  3.0  3.0  3\n",
      "3  4.0  4.0  4\n",
      "4  5.0  3.0  5\n"
     ]
    }
   ],
   "source": [
    "# 중간값으로 채우기\n",
    "df_filled_median = df.fillna(df.median())\n",
    "print(\"\\n중간값으로 채운 데이터프레임:\")\n",
    "print(df_filled_median)"
   ]
  },
  {
   "cell_type": "code",
   "execution_count": 8,
   "metadata": {},
   "outputs": [
    {
     "name": "stdout",
     "output_type": "stream",
     "text": [
      "\n",
      "특정 값으로 채운 데이터프레임:\n",
      "     A    B  C\n",
      "0  1.0  0.0  1\n",
      "1  2.0  2.0  2\n",
      "2  0.0  3.0  3\n",
      "3  4.0  4.0  4\n",
      "4  5.0  0.0  5\n"
     ]
    }
   ],
   "source": [
    "# 특정 값으로 채우기\n",
    "df_filled_value = df.fillna(0)\n",
    "print(\"\\n특정 값으로 채운 데이터프레임:\")\n",
    "print(df_filled_value)"
   ]
  },
  {
   "cell_type": "code",
   "execution_count": 9,
   "metadata": {},
   "outputs": [
    {
     "name": "stdout",
     "output_type": "stream",
     "text": [
      "\n",
      "앞의 값으로 채운 데이터프레임 (forward fill):\n",
      "     A    B  C\n",
      "0  1.0  NaN  1\n",
      "1  2.0  2.0  2\n",
      "2  2.0  3.0  3\n",
      "3  4.0  4.0  4\n",
      "4  5.0  4.0  5\n"
     ]
    }
   ],
   "source": [
    "# 앞의 값으로 채우기\n",
    "# 최신 버전에서는 ffill()을 사용\n",
    "\n",
    "df_filled_ffill = df.ffill()\n",
    "print(\"\\n앞의 값으로 채운 데이터프레임 (forward fill):\")\n",
    "print(df_filled_ffill)"
   ]
  },
  {
   "cell_type": "code",
   "execution_count": 10,
   "metadata": {},
   "outputs": [
    {
     "name": "stdout",
     "output_type": "stream",
     "text": [
      "\n",
      "뒤의 값으로 채운 데이터프레임 (backward fill):\n",
      "     A    B  C\n",
      "0  1.0  2.0  1\n",
      "1  2.0  2.0  2\n",
      "2  4.0  3.0  3\n",
      "3  4.0  4.0  4\n",
      "4  5.0  NaN  5\n"
     ]
    }
   ],
   "source": [
    "# 뒤의 값으로 채우기\n",
    "# 최신 버전에서는 bfill()을 사용\n",
    "\n",
    "df_filled_bfill = df.bfill()\n",
    "print(\"\\n뒤의 값으로 채운 데이터프레임 (backward fill):\")\n",
    "print(df_filled_bfill)"
   ]
  },
  {
   "cell_type": "markdown",
   "metadata": {},
   "source": [
    "## 검색, 인덱싱, 슬라이싱"
   ]
  },
  {
   "cell_type": "code",
   "execution_count": 11,
   "metadata": {},
   "outputs": [],
   "source": [
    "# 배열 생성\n",
    "arr1 = np.array([1, 2, 3, 4, 5])\n",
    "arr2 = np.array([3, 1, 2, 5, 4])\n",
    "arr3 = np.array([[1, 2, 3], [4, 5, 6], [7, 8, 9]])"
   ]
  },
  {
   "cell_type": "code",
   "execution_count": 12,
   "metadata": {},
   "outputs": [
    {
     "name": "stdout",
     "output_type": "stream",
     "text": [
      "arr1에서 값이 2인 인덱스: (array([1]),)\n",
      "arr2에서 값이 3인 인덱스: (array([0]),)\n"
     ]
    }
   ],
   "source": [
    "# 데이터 검색\n",
    "index_arr1 = np.where(arr1 == 2)\n",
    "index_arr2 = np.where(arr2 == 3)\n",
    "print(\"arr1에서 값이 2인 인덱스:\", index_arr1)\n",
    "print(\"arr2에서 값이 3인 인덱스:\", index_arr2)"
   ]
  },
  {
   "cell_type": "code",
   "execution_count": 13,
   "metadata": {},
   "outputs": [
    {
     "name": "stdout",
     "output_type": "stream",
     "text": [
      "arr1에서 선택된 요소들: [2 4 5]\n",
      "arr3에서 선택된 요소들: 2\n"
     ]
    }
   ],
   "source": [
    "# 인덱싱\n",
    "selected_elements_arr1 = arr1[[1, 3, 4]]\n",
    "selected_elements_arr3 = arr3[0, 1]\n",
    "print(\"arr1에서 선택된 요소들:\", selected_elements_arr1)\n",
    "print(\"arr3에서 선택된 요소들:\", selected_elements_arr3)"
   ]
  },
  {
   "cell_type": "code",
   "execution_count": 14,
   "metadata": {},
   "outputs": [
    {
     "name": "stdout",
     "output_type": "stream",
     "text": [
      "2차원 배열 arr4:\n",
      " [[ 1  2  3  4  5]\n",
      " [ 6  7  8  9 10]]\n"
     ]
    }
   ],
   "source": [
    "# 2차원 배열 생성\n",
    "arr4 = np.arange(1, 11).reshape(2, 5)\n",
    "print(\"2차원 배열 arr4:\\n\", arr4)"
   ]
  },
  {
   "cell_type": "code",
   "execution_count": 15,
   "metadata": {},
   "outputs": [
    {
     "name": "stdout",
     "output_type": "stream",
     "text": [
      "arr4에서 [1, 2] 위치의 요소: 8\n",
      "\n",
      "arr4에서 [:3, 1:] 슬라이싱:\n",
      " [[ 2  3  4  5]\n",
      " [ 7  8  9 10]]\n",
      "\n",
      "arr4의 axis=0에 대한 합계: [ 7  9 11 13 15]\n"
     ]
    }
   ],
   "source": [
    "# 인덱싱 및 슬라이싱\n",
    "element_arr4 = arr4[1, 2]\n",
    "subarray_arr4 = arr4[:3, 1:]\n",
    "sum_axis0_arr4 = arr4.sum(axis=0)\n",
    "print(\"arr4에서 [1, 2] 위치의 요소:\", element_arr4)\n",
    "print(\"\\narr4에서 [:3, 1:] 슬라이싱:\\n\", subarray_arr4)\n",
    "print(\"\\narr4의 axis=0에 대한 합계:\", sum_axis0_arr4)"
   ]
  },
  {
   "cell_type": "markdown",
   "metadata": {},
   "source": [
    "# 데이터 통합하기\n",
    "* 데이터를 한 쪽 방향으로 통합하기\n",
    "* 특정 열을 기준으로 통합하기"
   ]
  },
  {
   "cell_type": "code",
   "execution_count": 16,
   "metadata": {},
   "outputs": [],
   "source": [
    "# 데이터프레임 생성\n",
    "df1 = pd.DataFrame({\n",
    "    'key1': ['A', 'B', 'C', 'D'],\n",
    "    'value1': [1, 2, 3, 4]\n",
    "})\n",
    "\n",
    "df2 = pd.DataFrame({\n",
    "    'key1': ['A', 'B', 'E', 'F'],\n",
    "    'value2': [5, 6, 7, 8]\n",
    "})\n",
    "\n",
    "df3 = pd.DataFrame({\n",
    "    'key2': ['A', 'C', 'E', 'G'],\n",
    "    'value3': [9, 10, 11, 12]\n",
    "})"
   ]
  },
  {
   "cell_type": "markdown",
   "metadata": {},
   "source": [
    "## 데이터 통합하기 (1)\n",
    "1.\tdf1과 df2를 key1을 기준으로 inner join.\n",
    "2.\tdf1과 df2를 key1을 기준으로 outer join.\n",
    "3.\tdf1과 df2를 key1을 기준으로 left join.\n",
    "4.\tdf1과 df2를 key1을 기준으로 right join."
   ]
  },
  {
   "cell_type": "code",
   "execution_count": 17,
   "metadata": {},
   "outputs": [
    {
     "name": "stdout",
     "output_type": "stream",
     "text": [
      "Inner join on 'key1':\n",
      "  key1  value1  value2\n",
      "0    A       1       5\n",
      "1    B       2       6\n"
     ]
    }
   ],
   "source": [
    "# 1. Inner join on 'key1'\n",
    "merged_inner = pd.merge(df1, df2, on='key1', how='inner')\n",
    "print(\"Inner join on 'key1':\")\n",
    "print(merged_inner)"
   ]
  },
  {
   "cell_type": "code",
   "execution_count": 18,
   "metadata": {},
   "outputs": [
    {
     "name": "stdout",
     "output_type": "stream",
     "text": [
      "\n",
      "Outer join on 'key1':\n",
      "  key1  value1  value2\n",
      "0    A     1.0     5.0\n",
      "1    B     2.0     6.0\n",
      "2    C     3.0     NaN\n",
      "3    D     4.0     NaN\n",
      "4    E     NaN     7.0\n",
      "5    F     NaN     8.0\n"
     ]
    }
   ],
   "source": [
    "# 2. Outer join on 'key1'\n",
    "merged_outer = pd.merge(df1, df2, on='key1', how='outer')\n",
    "print(\"\\nOuter join on 'key1':\")\n",
    "print(merged_outer)"
   ]
  },
  {
   "cell_type": "code",
   "execution_count": 19,
   "metadata": {},
   "outputs": [
    {
     "name": "stdout",
     "output_type": "stream",
     "text": [
      "\n",
      "Left join on 'key1':\n",
      "  key1  value1  value2\n",
      "0    A       1     5.0\n",
      "1    B       2     6.0\n",
      "2    C       3     NaN\n",
      "3    D       4     NaN\n"
     ]
    }
   ],
   "source": [
    "# 3. Left join on 'key1'\n",
    "merged_left = pd.merge(df1, df2, on='key1', how='left')\n",
    "print(\"\\nLeft join on 'key1':\")\n",
    "print(merged_left)"
   ]
  },
  {
   "cell_type": "code",
   "execution_count": 20,
   "metadata": {},
   "outputs": [
    {
     "name": "stdout",
     "output_type": "stream",
     "text": [
      "\n",
      "Right join on 'key1':\n",
      "  key1  value1  value2\n",
      "0    A     1.0       5\n",
      "1    B     2.0       6\n",
      "2    E     NaN       7\n",
      "3    F     NaN       8\n"
     ]
    }
   ],
   "source": [
    "# 4. Right join on 'key1'\n",
    "merged_right = pd.merge(df1, df2, on='key1', how='right')\n",
    "print(\"\\nRight join on 'key1':\")\n",
    "print(merged_right)"
   ]
  },
  {
   "cell_type": "markdown",
   "metadata": {},
   "source": [
    "## 데이터 통합하기 (2)\n",
    "5.\tdf1과 df3를 각각 key1과 key2를 기준으로 inner join.\n",
    "6.\tdf1과 df2를 행(row) 방향으로 결합.\n",
    "7.\tdf1과 df3를 열(column) 방향으로 결합."
   ]
  },
  {
   "cell_type": "code",
   "execution_count": 22,
   "metadata": {},
   "outputs": [
    {
     "name": "stdout",
     "output_type": "stream",
     "text": [
      "\n",
      "Join on different keys ('key1' and 'key2'):\n",
      "  key1  value1 key2  value3\n",
      "0    A       1    A       9\n",
      "1    C       3    C      10\n"
     ]
    }
   ],
   "source": [
    "# 5. Join on different keys ('key1' and 'key2')\n",
    "merged_diff_keys = pd.merge(df1, df3, left_on='key1', right_on='key2', how='inner')\n",
    "print(\"\\nJoin on different keys ('key1' and 'key2'):\")\n",
    "print(merged_diff_keys)"
   ]
  },
  {
   "cell_type": "code",
   "execution_count": 23,
   "metadata": {},
   "outputs": [
    {
     "name": "stdout",
     "output_type": "stream",
     "text": [
      "\n",
      "Concatenate dataframes along rows:\n",
      "  key1  value1  value2\n",
      "0    A     1.0     NaN\n",
      "1    B     2.0     NaN\n",
      "2    C     3.0     NaN\n",
      "3    D     4.0     NaN\n",
      "4    A     NaN     5.0\n",
      "5    B     NaN     6.0\n",
      "6    E     NaN     7.0\n",
      "7    F     NaN     8.0\n"
     ]
    }
   ],
   "source": [
    "# 6. Concatenate dataframes along rows\n",
    "concat_rows = pd.concat([df1, df2], axis=0, ignore_index=True)\n",
    "print(\"\\nConcatenate dataframes along rows:\")\n",
    "print(concat_rows)"
   ]
  },
  {
   "cell_type": "code",
   "execution_count": 24,
   "metadata": {},
   "outputs": [
    {
     "name": "stdout",
     "output_type": "stream",
     "text": [
      "\n",
      "Concatenate dataframes along columns:\n",
      "  key1  value1 key2  value3\n",
      "0    A       1    A       9\n",
      "1    B       2    C      10\n",
      "2    C       3    E      11\n",
      "3    D       4    G      12\n"
     ]
    }
   ],
   "source": [
    "# 7. Concatenate dataframes along columns\n",
    "concat_cols = pd.concat([df1, df3], axis=1)\n",
    "print(\"\\nConcatenate dataframes along columns:\")\n",
    "print(concat_cols)"
   ]
  }
 ],
 "metadata": {
  "kernelspec": {
   "display_name": "myenv",
   "language": "python",
   "name": "python3"
  },
  "language_info": {
   "codemirror_mode": {
    "name": "ipython",
    "version": 3
   },
   "file_extension": ".py",
   "mimetype": "text/x-python",
   "name": "python",
   "nbconvert_exporter": "python",
   "pygments_lexer": "ipython3",
   "version": "3.12.4"
  }
 },
 "nbformat": 4,
 "nbformat_minor": 2
}
