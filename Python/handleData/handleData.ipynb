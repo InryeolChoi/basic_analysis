{
 "cells": [
  {
   "cell_type": "markdown",
   "metadata": {},
   "source": [
    "# 데이터 선택하기\n",
    "* 데이터 중 일부를 선택하고, 조정하는 방법을 알아보자\n",
    "* 이는 데이터 전처리에서 중요한 역할을 한다. "
   ]
  },
  {
   "cell_type": "code",
   "execution_count": 2,
   "metadata": {},
   "outputs": [],
   "source": [
    "import numpy as np\n",
    "import pandas as pd"
   ]
  },
  {
   "cell_type": "code",
   "execution_count": 6,
   "metadata": {},
   "outputs": [],
   "source": [
    "# 넘파이: 데이터 만들기\n",
    "arr1 = np.arange(0, 9); arr1\n",
    "arr2 = arr1.reshape(3,3)\n",
    "arr3 = np.array([0, 5, 4, 2, 3, 12, 11, -1, 6]).reshape(3,3)\n",
    "arr4 = np.arange(1, 11).reshape(2, 5)"
   ]
  },
  {
   "cell_type": "code",
   "execution_count": 9,
   "metadata": {},
   "outputs": [
    {
     "name": "stdout",
     "output_type": "stream",
     "text": [
      "arr1[[1,3,4]] : [1 3 4]\n",
      "arr3[0, 1] : 5\n",
      "arr4[1, 2] : 8\n",
      "arr4[:3, 1:] : [[ 2  3  4  5]\n",
      " [ 7  8  9 10]]\n",
      "arr4.sum(axis = 0)) : [ 7  9 11 13 15]\n"
     ]
    }
   ],
   "source": [
    "print(f\"arr1[[1,3,4]] : {arr1[[1,3,4]]}\")\n",
    "print(f\"arr3[0, 1] : {arr3[0, 1]}\")\n",
    "print(f\"arr4[1, 2] : {arr4[1, 2]}\")\n",
    "print(f\"arr4[:3, 1:] : {arr4[:3, 1:]}\")\n",
    "print(f\"arr4.sum(axis = 0)) : {arr4.sum(axis = 0)}\")"
   ]
  },
  {
   "cell_type": "markdown",
   "metadata": {},
   "source": [
    "# 데이터 조작하기"
   ]
  },
  {
   "cell_type": "markdown",
   "metadata": {},
   "source": [
    "* 데이터에서 빈값을 채워보기\n",
    "* 데이터를 한 쪽 방향으로 통합하기\n",
    "* 특정 열을 기준으로 통합하기"
   ]
  },
  {
   "cell_type": "markdown",
   "metadata": {},
   "source": []
  }
 ],
 "metadata": {
  "kernelspec": {
   "display_name": "myenv",
   "language": "python",
   "name": "python3"
  },
  "language_info": {
   "codemirror_mode": {
    "name": "ipython",
    "version": 3
   },
   "file_extension": ".py",
   "mimetype": "text/x-python",
   "name": "python",
   "nbconvert_exporter": "python",
   "pygments_lexer": "ipython3",
   "version": "3.12.4"
  }
 },
 "nbformat": 4,
 "nbformat_minor": 2
}
