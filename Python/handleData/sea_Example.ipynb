{
 "cells": [
  {
   "cell_type": "code",
   "execution_count": 1,
   "metadata": {},
   "outputs": [],
   "source": [
    "import pandas as pd"
   ]
  },
  {
   "cell_type": "code",
   "execution_count": 2,
   "metadata": {},
   "outputs": [
    {
     "name": "stderr",
     "output_type": "stream",
     "text": [
      "UsageError: Line magic function `%%writefile` not found.\n"
     ]
    }
   ],
   "source": [
    "# 데이터 생성, 읽기\n",
    "%%writefile \"C:\\Users\\dlsfu\\Desktop\\python_stat\\sea_rain2.csv\"\n",
    "연도,동해,남해,서해,전체\n",
    "2016,17.3,17.4,18.5,20.8,19.2\n",
    "2017,17.7,16.5,17.8,21.9,20.7\n",
    "2018,19.2,18.7,18.4,16.1,18.5\n",
    "2019,18.4,18.9,19.2,12.8,20.1\n",
    "2020,19.6,15.6,20.7,22.7,25.9"
   ]
  },
  {
   "cell_type": "code",
   "execution_count": null,
   "metadata": {},
   "outputs": [],
   "source": [
    "pd.read_csv(FilePath=\"../_Dataset\", sep=\",\", index_col=\"연도\")"
   ]
  },
  {
   "cell_type": "code",
   "execution_count": null,
   "metadata": {},
   "outputs": [],
   "source": [
    "\n",
    "\n",
    "# index 이름 넣기\n",
    "sold = pd.DataFrame({'판매가격': [2000, 3000, 5000, 10000],\n",
    "                     '판매량': [32, 53, 40, 25]},\n",
    "                    index = ['P' + str(i) for i in range(1001, 1005)])\n",
    "sold.index.name = '제품번호'\n",
    "sold\n",
    "a = r\"C:\\Users\\dlsfu\\Desktop\\python_stat\\sold.csv\"\n",
    "sold.to_csv(a, sep=\" \", encoding=\"cp949\")\n",
    "!type \"C:\\Users\\dlsfu\\Desktop\\python_stat\\sold.csv\"\n",
    "\n"
   ]
  }
 ],
 "metadata": {
  "kernelspec": {
   "display_name": "myenv",
   "language": "python",
   "name": "python3"
  },
  "language_info": {
   "codemirror_mode": {
    "name": "ipython",
    "version": 3
   },
   "file_extension": ".py",
   "mimetype": "text/x-python",
   "name": "python",
   "nbconvert_exporter": "python",
   "pygments_lexer": "ipython3",
   "version": "3.12.4"
  }
 },
 "nbformat": 4,
 "nbformat_minor": 2
}
