{
 "cells": [
  {
   "cell_type": "code",
   "execution_count": 2,
   "metadata": {},
   "outputs": [],
   "source": [
    "import pandas as pd"
   ]
  },
  {
   "cell_type": "markdown",
   "metadata": {},
   "source": [
    "## 파일 저장"
   ]
  },
  {
   "cell_type": "markdown",
   "metadata": {},
   "source": [
    "### 매직명령어 활용\n",
    "\n",
    "* `%%writefile (파일명)`을 이용하면 파일을 저장할 수 있다.\n",
    "* 이러한 명령어를 매직 명령어라고 하며, ipython과 주피터 노트북에서 실행할 수 있는 방법이다.\n",
    "* **반드시 파이썬 shell 첫 줄에 적어야 한다. 그렇지 않으면 실행되지 않는다.**\n",
    "* 일반적인 파이썬에서는 지원하지 않음."
   ]
  },
  {
   "cell_type": "code",
   "execution_count": 3,
   "metadata": {},
   "outputs": [],
   "source": [
    "# 파일 위치는 달라질 수 있음.\n",
    "file = \"../../Dataset/sea_rain2.csv\""
   ]
  },
  {
   "cell_type": "code",
   "execution_count": 4,
   "metadata": {},
   "outputs": [
    {
     "name": "stdout",
     "output_type": "stream",
     "text": [
      "Overwriting ../../_Dataset/sea_rain2.csv\n"
     ]
    }
   ],
   "source": [
    "%%writefile \"{file}\"\n",
    "연도,동해,남해,서해,전체\n",
    "2016,17.3,17.4,18.5,20.8,19.2\n",
    "2017,17.7,16.5,17.8,21.9,20.7\n",
    "2018,19.2,18.7,18.4,16.1,18.5\n",
    "2019,18.4,18.9,19.2,12.8,20.1\n",
    "2020,19.6,15.6,20.7,22.7,25.9"
   ]
  },
  {
   "cell_type": "markdown",
   "metadata": {},
   "source": [
    "### 일반적인 저장방식"
   ]
  },
  {
   "cell_type": "code",
   "execution_count": 5,
   "metadata": {},
   "outputs": [],
   "source": [
    "# 파일 위치는 달라질 수 있음.\n",
    "file = \"../../Dataset/sea_rain4.csv\""
   ]
  },
  {
   "cell_type": "code",
   "execution_count": 6,
   "metadata": {},
   "outputs": [],
   "source": [
    "data = {\n",
    "    '연도': [2020, 2021, 2022, 2023, 2024],\n",
    "    '동해': [17.3, 17.7, 19.2, 18.4, 19.6],\n",
    "    '남해': [17.4, 16.5, 18.7, 18.9, 15.6],\n",
    "    '서해': [18.5, 17.8, 18.4, 19.2, 20.7],\n",
    "    '전체': [20.8, 21.9, 16.1, 12.8, 22.7]\n",
    "}\n",
    "df = pd.DataFrame(data)\n",
    "df.set_index('연도', inplace=True)\n",
    "df.to_csv(f\"{file}\")"
   ]
  },
  {
   "cell_type": "markdown",
   "metadata": {},
   "source": [
    "## 파일 읽기"
   ]
  },
  {
   "cell_type": "code",
   "execution_count": 15,
   "metadata": {},
   "outputs": [
    {
     "data": {
      "text/html": [
       "<div>\n",
       "<style scoped>\n",
       "    .dataframe tbody tr th:only-of-type {\n",
       "        vertical-align: middle;\n",
       "    }\n",
       "\n",
       "    .dataframe tbody tr th {\n",
       "        vertical-align: top;\n",
       "    }\n",
       "\n",
       "    .dataframe thead th {\n",
       "        text-align: right;\n",
       "    }\n",
       "</style>\n",
       "<table border=\"1\" class=\"dataframe\">\n",
       "  <thead>\n",
       "    <tr style=\"text-align: right;\">\n",
       "      <th></th>\n",
       "      <th>동해</th>\n",
       "      <th>남해</th>\n",
       "      <th>서해</th>\n",
       "      <th>전체</th>\n",
       "    </tr>\n",
       "    <tr>\n",
       "      <th>연도</th>\n",
       "      <th></th>\n",
       "      <th></th>\n",
       "      <th></th>\n",
       "      <th></th>\n",
       "    </tr>\n",
       "  </thead>\n",
       "  <tbody>\n",
       "    <tr>\n",
       "      <th>2020</th>\n",
       "      <td>17.3</td>\n",
       "      <td>17.4</td>\n",
       "      <td>18.5</td>\n",
       "      <td>20.8</td>\n",
       "    </tr>\n",
       "    <tr>\n",
       "      <th>2021</th>\n",
       "      <td>17.7</td>\n",
       "      <td>16.5</td>\n",
       "      <td>17.8</td>\n",
       "      <td>21.9</td>\n",
       "    </tr>\n",
       "    <tr>\n",
       "      <th>2022</th>\n",
       "      <td>19.2</td>\n",
       "      <td>18.7</td>\n",
       "      <td>18.4</td>\n",
       "      <td>16.1</td>\n",
       "    </tr>\n",
       "    <tr>\n",
       "      <th>2023</th>\n",
       "      <td>18.4</td>\n",
       "      <td>18.9</td>\n",
       "      <td>19.2</td>\n",
       "      <td>12.8</td>\n",
       "    </tr>\n",
       "    <tr>\n",
       "      <th>2024</th>\n",
       "      <td>19.6</td>\n",
       "      <td>15.6</td>\n",
       "      <td>20.7</td>\n",
       "      <td>22.7</td>\n",
       "    </tr>\n",
       "  </tbody>\n",
       "</table>\n",
       "</div>"
      ],
      "text/plain": [
       "        동해    남해    서해    전체\n",
       "연도                          \n",
       "2020  17.3  17.4  18.5  20.8\n",
       "2021  17.7  16.5  17.8  21.9\n",
       "2022  19.2  18.7  18.4  16.1\n",
       "2023  18.4  18.9  19.2  12.8\n",
       "2024  19.6  15.6  20.7  22.7"
      ]
     },
     "execution_count": 15,
     "metadata": {},
     "output_type": "execute_result"
    }
   ],
   "source": [
    "pd.read_csv(\"../../Dataset/sea_rain4.csv\", sep=\",\", index_col=\"연도\")"
   ]
  },
  {
   "cell_type": "markdown",
   "metadata": {},
   "source": [
    "## 파일 수정 후 저장"
   ]
  },
  {
   "cell_type": "code",
   "execution_count": 17,
   "metadata": {},
   "outputs": [
    {
     "data": {
      "text/html": [
       "<div>\n",
       "<style scoped>\n",
       "    .dataframe tbody tr th:only-of-type {\n",
       "        vertical-align: middle;\n",
       "    }\n",
       "\n",
       "    .dataframe tbody tr th {\n",
       "        vertical-align: top;\n",
       "    }\n",
       "\n",
       "    .dataframe thead th {\n",
       "        text-align: right;\n",
       "    }\n",
       "</style>\n",
       "<table border=\"1\" class=\"dataframe\">\n",
       "  <thead>\n",
       "    <tr style=\"text-align: right;\">\n",
       "      <th></th>\n",
       "      <th>판매가격</th>\n",
       "      <th>판매량</th>\n",
       "    </tr>\n",
       "    <tr>\n",
       "      <th>제품번호</th>\n",
       "      <th></th>\n",
       "      <th></th>\n",
       "    </tr>\n",
       "  </thead>\n",
       "  <tbody>\n",
       "    <tr>\n",
       "      <th>P1001</th>\n",
       "      <td>2000</td>\n",
       "      <td>32</td>\n",
       "    </tr>\n",
       "    <tr>\n",
       "      <th>P1002</th>\n",
       "      <td>3000</td>\n",
       "      <td>53</td>\n",
       "    </tr>\n",
       "    <tr>\n",
       "      <th>P1003</th>\n",
       "      <td>5000</td>\n",
       "      <td>40</td>\n",
       "    </tr>\n",
       "    <tr>\n",
       "      <th>P1004</th>\n",
       "      <td>10000</td>\n",
       "      <td>25</td>\n",
       "    </tr>\n",
       "  </tbody>\n",
       "</table>\n",
       "</div>"
      ],
      "text/plain": [
       "        판매가격  판매량\n",
       "제품번호             \n",
       "P1001   2000   32\n",
       "P1002   3000   53\n",
       "P1003   5000   40\n",
       "P1004  10000   25"
      ]
     },
     "execution_count": 17,
     "metadata": {},
     "output_type": "execute_result"
    }
   ],
   "source": [
    "# index 이름 넣기\n",
    "sold = pd.DataFrame({'판매가격': [2000, 3000, 5000, 10000],\n",
    "                     '판매량': [32, 53, 40, 25]},\n",
    "                    index = ['P' + str(i) for i in range(1001, 1005)])\n",
    "sold.index.name = '제품번호'\n",
    "sold"
   ]
  },
  {
   "cell_type": "code",
   "execution_count": 29,
   "metadata": {},
   "outputs": [],
   "source": [
    "# 파일 위치 지정하기\n",
    "file = \"../../Dataset/test.csv\"\n",
    "file2 = \"../../Dataset/sold.csv\""
   ]
  },
  {
   "cell_type": "markdown",
   "metadata": {},
   "source": [
    "### 일반적인 저장방법"
   ]
  },
  {
   "cell_type": "code",
   "execution_count": 30,
   "metadata": {},
   "outputs": [],
   "source": [
    "sold.to_csv(file, sep=\" \", encoding=\"utf-8\")"
   ]
  },
  {
   "cell_type": "markdown",
   "metadata": {},
   "source": [
    "## 쉘 명령어 이용하기\n",
    "* `!`를 앞에 붙이면 파이쎤에서 쉘 명령어로 인식한다.\n",
    "* 또는 `os.system(f\"명령어\")`를 써도 된다.\n",
    "\n",
    "운영체제별로 새로운 파일을 만드는 명령어는 다음과 같다.\n",
    "* Windows : `!type`\n",
    "* Unix / Linux : `!cat`\n",
    "* (맥은 Darwin이라고 뜨며, 이는 유닉스의 한 종류이다.)"
   ]
  },
  {
   "cell_type": "code",
   "execution_count": 36,
   "metadata": {},
   "outputs": [
    {
     "name": "stdout",
     "output_type": "stream",
     "text": [
      "Darwin\n"
     ]
    }
   ],
   "source": [
    "import os\n",
    "import platform\n",
    "\n",
    "current_os = platform.system()\n",
    "print(current_os)"
   ]
  },
  {
   "cell_type": "code",
   "execution_count": null,
   "metadata": {},
   "outputs": [],
   "source": [
    "if current_os == \"Windows\":\n",
    "    os.system(f\"type {file2}\")\n",
    "else:\n",
    "    os.system(f\"cat {file2}\")"
   ]
  },
  {
   "cell_type": "code",
   "execution_count": null,
   "metadata": {},
   "outputs": [],
   "source": [
    "# 윈도우의 경우\n",
    "!type {file}"
   ]
  },
  {
   "cell_type": "code",
   "execution_count": null,
   "metadata": {},
   "outputs": [],
   "source": [
    "# 맥 / 유닉스 / 리눅스의 경우\n",
    "!cat {file}"
   ]
  }
 ],
 "metadata": {
  "kernelspec": {
   "display_name": "myenv",
   "language": "python",
   "name": "python3"
  },
  "language_info": {
   "codemirror_mode": {
    "name": "ipython",
    "version": 3
   },
   "file_extension": ".py",
   "mimetype": "text/x-python",
   "name": "python",
   "nbconvert_exporter": "python",
   "pygments_lexer": "ipython3",
   "version": "3.12.4"
  }
 },
 "nbformat": 4,
 "nbformat_minor": 2
}
