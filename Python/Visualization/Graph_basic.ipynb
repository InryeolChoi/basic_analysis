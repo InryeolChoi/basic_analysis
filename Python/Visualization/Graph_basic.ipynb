{
 "cells": [
  {
   "cell_type": "markdown",
   "metadata": {},
   "source": [
    "## 그래프 : 기본\n",
    "\n",
    "* 선 그래프 (Line Plot)\n",
    "* 산점도 (Scatter Plot)\n",
    "* 막대 그래프 (Bar Plot)\n",
    "* 히스토그램 (Histogram)\n",
    "* 줄기-잎 그림 (Stem Plot)"
   ]
  },
  {
   "cell_type": "code",
   "execution_count": 2,
   "metadata": {},
   "outputs": [],
   "source": [
    "import numpy as np\n",
    "import pandas as pd\n",
    "import matplotlib.pyplot as plt\n",
    "import matplotlib.font_manager as fm\n",
    "import matplotlib as mat\n",
    "import seaborn as sns"
   ]
  },
  {
   "cell_type": "code",
   "execution_count": 5,
   "metadata": {},
   "outputs": [],
   "source": [
    "# 애플용 설정\n",
    "import platform\n",
    "\n",
    "if platform.system() == 'Darwin':\n",
    "    mat.rc('font', family='AppleGothic')"
   ]
  }
 ],
 "metadata": {
  "kernelspec": {
   "display_name": "myenv",
   "language": "python",
   "name": "python3"
  },
  "language_info": {
   "codemirror_mode": {
    "name": "ipython",
    "version": 3
   },
   "file_extension": ".py",
   "mimetype": "text/x-python",
   "name": "python",
   "nbconvert_exporter": "python",
   "pygments_lexer": "ipython3",
   "version": "3.12.4"
  }
 },
 "nbformat": 4,
 "nbformat_minor": 2
}
