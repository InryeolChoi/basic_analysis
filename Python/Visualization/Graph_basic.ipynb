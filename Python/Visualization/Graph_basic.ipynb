{
 "cells": [
  {
   "cell_type": "markdown",
   "metadata": {},
   "source": [
    "## 그래프 : 기본\n",
    "\n",
    "* 선 그래프 (Line Plot)\n",
    "* 산점도 (Scatter Plot)\n",
    "* 막대 그래프 (Bar Plot)\n",
    "* 히스토그램 (Histogram)\n",
    "* 줄기-잎 그림 (Stem Plot)"
   ]
  }
 ],
 "metadata": {
  "language_info": {
   "name": "python"
  }
 },
 "nbformat": 4,
 "nbformat_minor": 2
}
