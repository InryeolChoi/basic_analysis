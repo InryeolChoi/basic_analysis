{
 "cells": [
  {
   "cell_type": "markdown",
   "metadata": {},
   "source": [
    "# 그래프 : 비교와 분류\n",
    "\n",
    "* 상자 그림 (Box Plot)\n",
    "* 바이올린 플롯 (Violin Plot)\n",
    "* 커널 밀도 추정 (Kernel Density Estimate Plot)\n",
    "* 파이 차트 (Pie Chart)\n",
    "* 스택드 막대 그래프 (Stacked Bar Plot)\n",
    "* 면적 그래프 (Area Plot)\n"
   ]
  },
  {
   "cell_type": "code",
   "execution_count": null,
   "metadata": {},
   "outputs": [],
   "source": []
  }
 ],
 "metadata": {
  "language_info": {
   "name": "python"
  }
 },
 "nbformat": 4,
 "nbformat_minor": 2
}
