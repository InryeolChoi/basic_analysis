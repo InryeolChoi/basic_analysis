{
 "cells": [
  {
   "cell_type": "markdown",
   "metadata": {},
   "source": [
    "# 그래프 : 관계형\n",
    "* 산점도 행렬 (Pair Plot)\n",
    "* 히트맵 (Heatmap)\n",
    "* 3D 그래프 (3D Plot)\n",
    "* 버블 차트 (Bubble Chart)\n"
   ]
  },
  {
   "cell_type": "code",
   "execution_count": null,
   "metadata": {},
   "outputs": [],
   "source": []
  }
 ],
 "metadata": {
  "language_info": {
   "name": "python"
  }
 },
 "nbformat": 4,
 "nbformat_minor": 2
}
