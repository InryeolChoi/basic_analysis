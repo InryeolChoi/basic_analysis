{
 "cells": [
  {
   "cell_type": "markdown",
   "metadata": {},
   "source": [
    "# 특수한 그래프\n",
    "\n",
    "* 타임 시리즈 그래프 (Time Series Plot)\n",
    "* 계단 그래프 (Step Plot)\n",
    "* 캔들스틱 차트 (Candlestick Chart)\n",
    "* 오류 막대 그래프 (Error Bar Plot)\n",
    "* 줄기-잎 그림 (Stem Plot)\n",
    "* 레이더 차트 (Radar Chart)"
   ]
  },
  {
   "cell_type": "code",
   "execution_count": null,
   "metadata": {},
   "outputs": [],
   "source": []
  }
 ],
 "metadata": {
  "language_info": {
   "name": "python"
  }
 },
 "nbformat": 4,
 "nbformat_minor": 2
}
