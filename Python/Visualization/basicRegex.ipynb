{
 "cells": [
  {
   "cell_type": "markdown",
   "metadata": {},
   "source": [
    "# 정규표현식 연습"
   ]
  },
  {
   "cell_type": "code",
   "execution_count": 2,
   "metadata": {},
   "outputs": [],
   "source": [
    "# 정규 표현식\n",
    "import re"
   ]
  },
  {
   "cell_type": "code",
   "execution_count": 3,
   "metadata": {},
   "outputs": [
    {
     "name": "stdout",
     "output_type": "stream",
     "text": [
      "['a', 'c', 'b', 'c', 'a', 'a', 'a', 'a']\n"
     ]
    }
   ],
   "source": [
    "# []\n",
    "p = re.compile('[abc]')\n",
    "m = p.findall('a cbcflks sdkflsalk ksadfkjkl asdfdfas')\n",
    "print(m)"
   ]
  },
  {
   "cell_type": "code",
   "execution_count": 4,
   "metadata": {},
   "outputs": [
    {
     "name": "stdout",
     "output_type": "stream",
     "text": [
      "['2', '3', '0', '9', '4', '2']\n"
     ]
    },
    {
     "name": "stderr",
     "output_type": "stream",
     "text": [
      "<>:2: SyntaxWarning: invalid escape sequence '\\d'\n",
      "<>:2: SyntaxWarning: invalid escape sequence '\\d'\n",
      "/var/folders/j5/2p33mq0s3pbg5spm_mqqxgw00000gn/T/ipykernel_11093/736694518.py:2: SyntaxWarning: invalid escape sequence '\\d'\n",
      "  p = re.compile('\\d')\n"
     ]
    }
   ],
   "source": [
    "# dot(.)\n",
    "p = re.compile('\\d')\n",
    "m = p.findall('a 2a 30 a9sdf 4 ca2b')\n",
    "print(m)"
   ]
  },
  {
   "cell_type": "code",
   "execution_count": 5,
   "metadata": {},
   "outputs": [
    {
     "name": "stdout",
     "output_type": "stream",
     "text": [
      "['asdfb', 'a1lfb']\n",
      "['ggle', 'gogle', 'google', 'goooogle']\n",
      "['gogle', 'google', 'goooogle']\n",
      "['gogle', 'google', 'goooogle']\n",
      "['book']\n",
      "<re.Match object; span=(0, 4), match='Crow'>\n",
      "<re.Match object; span=(0, 4), match='Life'>\n",
      "<re.Match object; span=(0, 4), match='Life'>\n",
      "<re.Match object; span=(0, 3), match='ABC'>\n",
      "<re.Match object; span=(0, 9), match='ABCABCABC'>\n",
      "ABCABCABC\n",
      "None\n",
      "<re.Match object; span=(0, 3), match='a\\nb'>\n",
      "<re.Match object; span=(0, 6), match='python'>\n",
      "None\n",
      "None\n",
      "<re.Match object; span=(0, 6), match='python'>\n",
      "<re.Match object; span=(0, 6), match='Python'>\n",
      "<re.Match object; span=(0, 6), match='PYTHON'>\n",
      "['python one', 'python two', 'python three']\n",
      "[]\n",
      "a\n",
      "b\n",
      "\n",
      "ame\n",
      "\\name\n",
      "C:\n",
      "ome\n",
      "ations\n",
      "C:\\nome\\nations\n",
      "<re.Match object; span=(3, 8), match='class'>\n",
      "None\n",
      "None\n",
      "None\n",
      "<re.Match object; span=(6, 11), match='class'>\n",
      "None\n"
     ]
    },
    {
     "name": "stderr",
     "output_type": "stream",
     "text": [
      "<>:72: SyntaxWarning: invalid escape sequence '\\s'\n",
      "<>:85: SyntaxWarning: invalid escape sequence '\\A'\n",
      "<>:72: SyntaxWarning: invalid escape sequence '\\s'\n",
      "<>:85: SyntaxWarning: invalid escape sequence '\\A'\n",
      "/var/folders/j5/2p33mq0s3pbg5spm_mqqxgw00000gn/T/ipykernel_11093/1987520366.py:72: SyntaxWarning: invalid escape sequence '\\s'\n",
      "  p = re.compile('^python\\s\\w+', re.MULTILINE)\n",
      "/var/folders/j5/2p33mq0s3pbg5spm_mqqxgw00000gn/T/ipykernel_11093/1987520366.py:85: SyntaxWarning: invalid escape sequence '\\A'\n",
      "  p = re.compile('^\\Apython\\s\\w+', re.MULTILINE)\n",
      "/var/folders/j5/2p33mq0s3pbg5spm_mqqxgw00000gn/T/ipykernel_11093/1987520366.py:72: SyntaxWarning: invalid escape sequence '\\s'\n",
      "  p = re.compile('^python\\s\\w+', re.MULTILINE)\n",
      "/var/folders/j5/2p33mq0s3pbg5spm_mqqxgw00000gn/T/ipykernel_11093/1987520366.py:85: SyntaxWarning: invalid escape sequence '\\A'\n",
      "  p = re.compile('^\\Apython\\s\\w+', re.MULTILINE)\n"
     ]
    },
    {
     "ename": "IndexError",
     "evalue": "no such group",
     "output_type": "error",
     "traceback": [
      "\u001b[0;31m---------------------------------------------------------------------------\u001b[0m",
      "\u001b[0;31mIndexError\u001b[0m                                Traceback (most recent call last)",
      "Cell \u001b[0;32mIn[5], line 125\u001b[0m\n\u001b[1;32m    123\u001b[0m p \u001b[38;5;241m=\u001b[39m re\u001b[38;5;241m.\u001b[39mcompile(\u001b[38;5;124mr\u001b[39m\u001b[38;5;124m\"\u001b[39m\u001b[38;5;124m(\u001b[39m\u001b[38;5;124m\\\u001b[39m\u001b[38;5;124mw+)\u001b[39m\u001b[38;5;124m\\\u001b[39m\u001b[38;5;124ms+\u001b[39m\u001b[38;5;124m\\\u001b[39m\u001b[38;5;124md+[-]\u001b[39m\u001b[38;5;124m\\\u001b[39m\u001b[38;5;124md+[-]\u001b[39m\u001b[38;5;124m\\\u001b[39m\u001b[38;5;124md+\u001b[39m\u001b[38;5;124m\"\u001b[39m)\n\u001b[1;32m    124\u001b[0m m \u001b[38;5;241m=\u001b[39m p\u001b[38;5;241m.\u001b[39msearch(\u001b[38;5;124m'\u001b[39m\u001b[38;5;124mPark 010-4564-1628\u001b[39m\u001b[38;5;124m'\u001b[39m)\n\u001b[0;32m--> 125\u001b[0m \u001b[38;5;28mprint\u001b[39m(\u001b[43mm\u001b[49m\u001b[38;5;241;43m.\u001b[39;49m\u001b[43mgroup\u001b[49m\u001b[43m(\u001b[49m\u001b[38;5;241;43m2\u001b[39;49m\u001b[43m)\u001b[49m)\n\u001b[1;32m    127\u001b[0m p \u001b[38;5;241m=\u001b[39m re\u001b[38;5;241m.\u001b[39mcompile(\u001b[38;5;124mr\u001b[39m\u001b[38;5;124m\"\u001b[39m\u001b[38;5;124m(\u001b[39m\u001b[38;5;124m\\\u001b[39m\u001b[38;5;124mw+)\u001b[39m\u001b[38;5;124m\\\u001b[39m\u001b[38;5;124ms+(\u001b[39m\u001b[38;5;124m\\\u001b[39m\u001b[38;5;124md+[-]\u001b[39m\u001b[38;5;124m\\\u001b[39m\u001b[38;5;124md+[-]\u001b[39m\u001b[38;5;124m\\\u001b[39m\u001b[38;5;124md+)\u001b[39m\u001b[38;5;124m\"\u001b[39m)\n\u001b[1;32m    128\u001b[0m m \u001b[38;5;241m=\u001b[39m p\u001b[38;5;241m.\u001b[39msearch(\u001b[38;5;124m'\u001b[39m\u001b[38;5;124mPark 010-4564-1628\u001b[39m\u001b[38;5;124m'\u001b[39m)\n",
      "\u001b[0;31mIndexError\u001b[0m: no such group"
     ]
    }
   ],
   "source": [
    "# 사이 아무거나(...)\n",
    "p = re.compile('a...b')\n",
    "m = p.findall('aasdfb asdf asdf a1lfb')\n",
    "print(m)\n",
    "\n",
    "# 반복(*)\n",
    "p = re.compile('go*gle')\n",
    "m = p.findall('ggle gogle google goooogle goog')\n",
    "print(m)\n",
    "\n",
    "# 반복(+)\n",
    "p = re.compile('go+gle')\n",
    "m = p.findall('ggle gogle google goooogle goog')\n",
    "print(m)\n",
    "\n",
    "# 반복({m, n})\n",
    "p = re.compile('go{1,4}gle')\n",
    "m = p.findall('ggle gogle google goooogle goog')\n",
    "print(m)\n",
    "\n",
    "# 시작과 끝\n",
    "p = re.compile('^book')\n",
    "m = p.findall('book is')\n",
    "print(m)\n",
    "\n",
    "#%% 메타문자\n",
    "p = re.compile('Crow|Servo')\n",
    "m = p.match('CrowHello')\n",
    "print(m)\n",
    "\n",
    "p = re.compile('^Life')\n",
    "m = p.search('Life is too short')\n",
    "print(m)\n",
    "print(re.search('^Life', 'Life is too short'))\n",
    "\n",
    "#%% 그룹핑\n",
    "p = re.compile('ABC')\n",
    "m = p.search('ABCABCABC OK?')\n",
    "print(m)\n",
    "\n",
    "p = re.compile('(ABC)+')\n",
    "m = p.search('ABCABCABC OK?')\n",
    "print(m)\n",
    "\n",
    "print(m.group())\n",
    "\n",
    "#%% 컴파일 옵션\n",
    "# DOTALL, S\n",
    "p = re.compile('a.b')\n",
    "m = p.search('a\\nb')\n",
    "print(m)\n",
    "\n",
    "p = re.compile('a.b', re.DOTALL)\n",
    "m = p.search('a\\nb')\n",
    "print(m)\n",
    "\n",
    "# ignorecase, I\n",
    "p = re.compile('[a-z]+')\n",
    "print(p.match('python'))\n",
    "print(p.match('Python'))\n",
    "print(p.match('PYTHON'))\n",
    "\n",
    "p = re.compile('[a-z]+', re.I)\n",
    "print(p.match('python'))\n",
    "print(p.match('Python'))\n",
    "print(p.match('PYTHON'))\n",
    "\n",
    "# MULTILINE, M\n",
    "import string\n",
    "string.whitespace\n",
    "\n",
    "p = re.compile('^python\\s\\w+', re.MULTILINE)\n",
    "data = \"\"\"\n",
    "python one \n",
    "life is too short\n",
    "python two\n",
    "you need python\n",
    "python three \"\"\"\n",
    "\n",
    "print(p.findall(data))\n",
    "\n",
    "#%% 컴파일 옵션2\n",
    "# \\A : 문자열 처음과 매치\n",
    "\n",
    "p = re.compile('^\\Apython\\s\\w+', re.MULTILINE)\n",
    "data = \"\"\"\n",
    "python one \n",
    "life is too short\n",
    "python two\n",
    "you need python\n",
    "python three \"\"\"\n",
    "\n",
    "print(p.findall(data))\n",
    "\n",
    "# 백슬레시\n",
    "p = re.compile('\\\\section')\n",
    "p = re.compile('\\\\\\\\section')\n",
    "p = re.compile(r'\\section')\n",
    "\n",
    "print('a\\nb')\n",
    "print('\\name')\n",
    "print(r'\\name')\n",
    "\n",
    "print('C:\\nome\\nations')\n",
    "print(r'C:\\nome\\nations')\n",
    "\n",
    "# \\b와 \\B\n",
    "p = re.compile(r'\\bclass\\b')\n",
    "print(p.search('no class at all'))\n",
    "print(p.search('the declassified algorithm'))\n",
    "print(p.search('one subclass is'))\n",
    "\n",
    "p = re.compile(r'\\Bclass\\B')\n",
    "print(p.search('no class at all'))\n",
    "print(p.search('the declassified algorithm'))\n",
    "print(p.search('one subclass is'))\n",
    "\n",
    "#%% 문자열 바꾸기\n",
    "p = re.compile('color', )\n",
    "p.sub('color', 'blue socks adn red shoes', count=1)\n",
    "\n",
    "\n",
    "p = re.compile(r\"(\\w+)\\s+\\d+[-]\\d+[-]\\d+\")\n",
    "m = p.search('Park 010-4564-1628')\n",
    "print(m.group(2))\n",
    "\n",
    "p = re.compile(r\"(\\w+)\\s+(\\d+[-]\\d+[-]\\d+)\")\n",
    "m = p.search('Park 010-4564-1628')\n",
    "\n",
    "print(m.group())\n",
    "print(m.group(0))\n",
    "print(m.group(1))\n",
    "print(m.group(2))\n",
    "\n"
   ]
  }
 ],
 "metadata": {
  "kernelspec": {
   "display_name": "myenv",
   "language": "python",
   "name": "python3"
  },
  "language_info": {
   "codemirror_mode": {
    "name": "ipython",
    "version": 3
   },
   "file_extension": ".py",
   "mimetype": "text/x-python",
   "name": "python",
   "nbconvert_exporter": "python",
   "pygments_lexer": "ipython3",
   "version": "3.12.4"
  }
 },
 "nbformat": 4,
 "nbformat_minor": 2
}
