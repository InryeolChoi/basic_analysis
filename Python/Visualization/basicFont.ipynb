{
 "cells": [
  {
   "cell_type": "markdown",
   "metadata": {},
   "source": [
    "# 언어 및 폰트 설정\n",
    "* 폰트 설정은 각 컴퓨터(운영체제)마다 다를 수 있음.\n",
    "* 따라서 컴퓨터의 기본 폰트가 어디 있는지 파악하는 것이 굉장히 중요"
   ]
  },
  {
   "cell_type": "code",
   "execution_count": 28,
   "metadata": {},
   "outputs": [],
   "source": [
    "import matplotlib.pyplot as plt\n",
    "import matplotlib.font_manager as fm\n",
    "import matplotlib as mat\n",
    "import platform\n",
    "import re\n",
    "import os"
   ]
  },
  {
   "cell_type": "markdown",
   "metadata": {},
   "source": [
    "# 현재 폰트 파악\n",
    "* 현재 쓰고 있는 폰트가 뭔지 보자.\n",
    "* 한글이 인식되지 않을 수도 있기 때문에..."
   ]
  },
  {
   "cell_type": "code",
   "execution_count": 29,
   "metadata": {},
   "outputs": [
    {
     "data": {
      "text/plain": [
       "['sans-serif']"
      ]
     },
     "execution_count": 29,
     "metadata": {},
     "output_type": "execute_result"
    }
   ],
   "source": [
    "# 현재 사용하고 있는 폰트 파악하기\n",
    "mat.rcParams['font.family']"
   ]
  },
  {
   "cell_type": "markdown",
   "metadata": {},
   "source": [
    "# 사용할 폰트 확인하기"
   ]
  },
  {
   "cell_type": "code",
   "execution_count": 30,
   "metadata": {},
   "outputs": [],
   "source": [
    "# 사용할 폰트 이름 설정\n",
    "font_name = 'NanumGothic'"
   ]
  },
  {
   "cell_type": "code",
   "execution_count": 31,
   "metadata": {},
   "outputs": [
    {
     "name": "stdout",
     "output_type": "stream",
     "text": [
      "NanumGothic 폰트가 시스템에 설치되어 있지 않습니다.\n"
     ]
    },
    {
     "data": {
      "text/plain": [
       "False"
      ]
     },
     "execution_count": 31,
     "metadata": {},
     "output_type": "execute_result"
    }
   ],
   "source": [
    "def check_font_installed(font_name):\n",
    "    # 시스템에서 사용 가능한 모든 폰트를 검색\n",
    "    available_fonts = set(f.name for f in fm.fontManager.ttflist)\n",
    "    \n",
    "    # NanumGothic 폰트가 시스템에 설치되어 있는지 확인\n",
    "    if font_name in available_fonts:\n",
    "        print(f\"{font_name} 폰트가 시스템에 설치되어 있습니다.\")\n",
    "        return True\n",
    "    else:\n",
    "        print(f\"{font_name} 폰트가 시스템에 설치되어 있지 않습니다.\")\n",
    "        return False\n",
    "\n",
    "check_font_installed(font_name)"
   ]
  },
  {
   "cell_type": "markdown",
   "metadata": {},
   "source": [
    "# 폰트가 없을 경우"
   ]
  },
  {
   "cell_type": "markdown",
   "metadata": {},
   "source": [
    "먼저 `fm.fontManager.ttflist`를 보자. 여기에는 가지고 올 수 있는 모든 종류의 폰트가 있다.  \n",
    "여기서 주는 문자열을 파싱해 저장공간이 어디인지 파악해야 한다."
   ]
  },
  {
   "cell_type": "code",
   "execution_count": 32,
   "metadata": {},
   "outputs": [
    {
     "name": "stdout",
     "output_type": "stream",
     "text": [
      "FontEntry(fname='/Users/inchoi/Statistics/code1_basic/myenv/lib/python3.12/site-packages/matplotlib/mpl-data/fonts/ttf/DejaVuSerif-BoldItalic.ttf', name='DejaVu Serif', style='italic', variant='normal', weight=700, stretch='normal', size='scalable')\n"
     ]
    }
   ],
   "source": [
    "f = fm.fontManager.ttflist\n",
    "print(f[0])"
   ]
  },
  {
   "cell_type": "markdown",
   "metadata": {},
   "source": [
    "컴퓨터에 폰트를 저장하는 위치도 파악해보자."
   ]
  },
  {
   "cell_type": "code",
   "execution_count": 33,
   "metadata": {},
   "outputs": [
    {
     "name": "stdout",
     "output_type": "stream",
     "text": [
      "System font directories:\n",
      "/Users/inchoi/Library/Fonts\n",
      "/Library/Fonts\n",
      "/System/Library/Fonts\n"
     ]
    }
   ],
   "source": [
    "def get_system_font_directories():\n",
    "    system = platform.system()\n",
    "    \n",
    "    if system == 'Windows':\n",
    "        return [os.path.join(os.environ['WINDIR'], 'Fonts')]\n",
    "    elif system == 'Darwin':\n",
    "        return [\n",
    "            os.path.expanduser('~/Library/Fonts'),\n",
    "            '/Library/Fonts',\n",
    "            '/System/Library/Fonts'\n",
    "        ]\n",
    "    elif system == 'Linux':\n",
    "        return [\n",
    "            os.path.expanduser('~/.fonts'),\n",
    "            os.path.expanduser('~/.local/share/fonts'),\n",
    "            '/usr/local/share/fonts',\n",
    "            '/usr/share/fonts'\n",
    "        ]\n",
    "    else:\n",
    "        return []\n",
    "\n",
    "font_dirs = get_system_font_directories()\n",
    "print(\"System font directories:\")\n",
    "for dir in font_dirs:\n",
    "    print(dir)"
   ]
  },
  {
   "cell_type": "markdown",
   "metadata": {},
   "source": [
    "실제 폰트 저장공간과 `fm.fontManager.ttflist`가 가르키는 디렉토리가 다를 경우, 해당 디렉토리에 폰트를 복사, 붙여넣기 하면 된다."
   ]
  }
 ],
 "metadata": {
  "kernelspec": {
   "display_name": "myenv",
   "language": "python",
   "name": "python3"
  },
  "language_info": {
   "codemirror_mode": {
    "name": "ipython",
    "version": 3
   },
   "file_extension": ".py",
   "mimetype": "text/x-python",
   "name": "python",
   "nbconvert_exporter": "python",
   "pygments_lexer": "ipython3",
   "version": "3.12.4"
  }
 },
 "nbformat": 4,
 "nbformat_minor": 2
}
