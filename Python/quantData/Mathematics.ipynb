{
 "cells": [
  {
   "cell_type": "markdown",
   "metadata": {},
   "source": [
    "# 데이터와 수치연산\n",
    "* 통계연산에 필요한 여러 가지 대표값들을 다뤄보자.\n",
    "* 또한 선형대수, 미적분, 최적화문제 등을 다루는 방법을 알아보자.\n",
    "* 데이터 분석에 생각보다 중요한 역할을 많이 한다."
   ]
  },
  {
   "cell_type": "code",
   "execution_count": 2,
   "metadata": {},
   "outputs": [],
   "source": [
    "import numpy as np\n",
    "import pandas as pd"
   ]
  },
  {
   "cell_type": "markdown",
   "metadata": {},
   "source": [
    "# 대푯값 만들기"
   ]
  },
  {
   "cell_type": "markdown",
   "metadata": {},
   "source": [
    "넘파이를 사용하면 다양한 통계 연산을 손쉽게 수행할 수 있다.  \n",
    "예를 들어, 합(sum), 평균(mean), 표준편차(std), 분산(var), 최소값(min), 최대값(max), 누적합(cumsum), 누적곱(cumprod) 등을 계산할 수 있다."
   ]
  },
  {
   "cell_type": "code",
   "execution_count": 3,
   "metadata": {},
   "outputs": [
    {
     "name": "stdout",
     "output_type": "stream",
     "text": [
      "합계 : 55\n",
      "평균 : 5.5\n",
      "표준편차 : 2.8722813232690143\n",
      "분산 : 8.25\n",
      "최솟값 : 1\n",
      "최댓값 : 10\n",
      "누적합 : 55\n",
      "누적곱 : 3628800\n"
     ]
    }
   ],
   "source": [
    "arr = np.arange(1, 11)\n",
    "print(f\"합계 : {arr.sum()}\")\n",
    "print(f\"평균 : {arr.mean()}\")\n",
    "print(f\"표준편차 : {arr.std()}\")\n",
    "print(f\"분산 : {arr.var()}\")\n",
    "print(f\"최솟값 : {arr.min()}\")\n",
    "print(f\"최댓값 : {arr.max()}\")\n",
    "print(f\"누적합 : {arr.cumsum()[-1]}\")\n",
    "print(f\"누적곱 : {arr.cumprod()[-1]}\")"
   ]
  },
  {
   "cell_type": "code",
   "execution_count": 7,
   "metadata": {},
   "outputs": [
    {
     "data": {
      "text/html": [
       "<div>\n",
       "<style scoped>\n",
       "    .dataframe tbody tr th:only-of-type {\n",
       "        vertical-align: middle;\n",
       "    }\n",
       "\n",
       "    .dataframe tbody tr th {\n",
       "        vertical-align: top;\n",
       "    }\n",
       "\n",
       "    .dataframe thead th {\n",
       "        text-align: right;\n",
       "    }\n",
       "</style>\n",
       "<table border=\"1\" class=\"dataframe\">\n",
       "  <thead>\n",
       "    <tr style=\"text-align: right;\">\n",
       "      <th></th>\n",
       "      <th>id</th>\n",
       "      <th>Exercise</th>\n",
       "      <th>Diet</th>\n",
       "      <th>Age</th>\n",
       "      <th>Sex</th>\n",
       "      <th>SBP1</th>\n",
       "      <th>SBP2</th>\n",
       "      <th>SBP3</th>\n",
       "      <th>SBP4</th>\n",
       "      <th>SBP5</th>\n",
       "      <th>...</th>\n",
       "      <th>DBP4</th>\n",
       "      <th>DBP5</th>\n",
       "      <th>DBP6</th>\n",
       "      <th>DBP7</th>\n",
       "      <th>DBP8</th>\n",
       "      <th>DBP9</th>\n",
       "      <th>DBP10</th>\n",
       "      <th>Height</th>\n",
       "      <th>Weight</th>\n",
       "      <th>Marriage</th>\n",
       "    </tr>\n",
       "  </thead>\n",
       "  <tbody>\n",
       "    <tr>\n",
       "      <th>count</th>\n",
       "      <td>5000.000000</td>\n",
       "      <td>5000.000000</td>\n",
       "      <td>4990.000000</td>\n",
       "      <td>5000.000000</td>\n",
       "      <td>5000.000000</td>\n",
       "      <td>5000.000000</td>\n",
       "      <td>5000.00000</td>\n",
       "      <td>5000.00000</td>\n",
       "      <td>5000.000000</td>\n",
       "      <td>5000.000000</td>\n",
       "      <td>...</td>\n",
       "      <td>5000.000000</td>\n",
       "      <td>5000.000000</td>\n",
       "      <td>5000.000000</td>\n",
       "      <td>5000.000000</td>\n",
       "      <td>4965.000000</td>\n",
       "      <td>4933.000000</td>\n",
       "      <td>4933.000000</td>\n",
       "      <td>5000.000000</td>\n",
       "      <td>4903.000000</td>\n",
       "      <td>4967.000000</td>\n",
       "    </tr>\n",
       "    <tr>\n",
       "      <th>mean</th>\n",
       "      <td>2500.500000</td>\n",
       "      <td>0.300000</td>\n",
       "      <td>0.600401</td>\n",
       "      <td>43.940400</td>\n",
       "      <td>0.502000</td>\n",
       "      <td>142.487600</td>\n",
       "      <td>142.42360</td>\n",
       "      <td>142.48320</td>\n",
       "      <td>142.519400</td>\n",
       "      <td>142.494400</td>\n",
       "      <td>...</td>\n",
       "      <td>98.283000</td>\n",
       "      <td>98.080200</td>\n",
       "      <td>98.251200</td>\n",
       "      <td>98.498600</td>\n",
       "      <td>98.485398</td>\n",
       "      <td>98.566187</td>\n",
       "      <td>98.555848</td>\n",
       "      <td>158.913200</td>\n",
       "      <td>69.791556</td>\n",
       "      <td>1.539360</td>\n",
       "    </tr>\n",
       "    <tr>\n",
       "      <th>std</th>\n",
       "      <td>1443.520003</td>\n",
       "      <td>0.458303</td>\n",
       "      <td>0.489865</td>\n",
       "      <td>14.717098</td>\n",
       "      <td>0.500046</td>\n",
       "      <td>36.403408</td>\n",
       "      <td>36.32087</td>\n",
       "      <td>36.38728</td>\n",
       "      <td>36.298275</td>\n",
       "      <td>36.471638</td>\n",
       "      <td>...</td>\n",
       "      <td>33.706577</td>\n",
       "      <td>33.944912</td>\n",
       "      <td>33.900099</td>\n",
       "      <td>33.937695</td>\n",
       "      <td>33.984462</td>\n",
       "      <td>34.006248</td>\n",
       "      <td>33.951637</td>\n",
       "      <td>12.002253</td>\n",
       "      <td>20.119436</td>\n",
       "      <td>0.498499</td>\n",
       "    </tr>\n",
       "    <tr>\n",
       "      <th>min</th>\n",
       "      <td>1.000000</td>\n",
       "      <td>0.000000</td>\n",
       "      <td>0.000000</td>\n",
       "      <td>20.000000</td>\n",
       "      <td>0.000000</td>\n",
       "      <td>65.000000</td>\n",
       "      <td>68.00000</td>\n",
       "      <td>64.00000</td>\n",
       "      <td>64.000000</td>\n",
       "      <td>62.000000</td>\n",
       "      <td>...</td>\n",
       "      <td>20.000000</td>\n",
       "      <td>16.000000</td>\n",
       "      <td>22.000000</td>\n",
       "      <td>22.000000</td>\n",
       "      <td>23.000000</td>\n",
       "      <td>21.000000</td>\n",
       "      <td>22.000000</td>\n",
       "      <td>140.000000</td>\n",
       "      <td>35.000000</td>\n",
       "      <td>1.000000</td>\n",
       "    </tr>\n",
       "    <tr>\n",
       "      <th>25%</th>\n",
       "      <td>1250.750000</td>\n",
       "      <td>0.000000</td>\n",
       "      <td>0.000000</td>\n",
       "      <td>31.000000</td>\n",
       "      <td>0.000000</td>\n",
       "      <td>112.000000</td>\n",
       "      <td>112.00000</td>\n",
       "      <td>112.00000</td>\n",
       "      <td>113.000000</td>\n",
       "      <td>112.000000</td>\n",
       "      <td>...</td>\n",
       "      <td>69.000000</td>\n",
       "      <td>68.000000</td>\n",
       "      <td>68.000000</td>\n",
       "      <td>68.000000</td>\n",
       "      <td>68.000000</td>\n",
       "      <td>68.000000</td>\n",
       "      <td>69.000000</td>\n",
       "      <td>150.000000</td>\n",
       "      <td>54.000000</td>\n",
       "      <td>1.000000</td>\n",
       "    </tr>\n",
       "    <tr>\n",
       "      <th>50%</th>\n",
       "      <td>2500.500000</td>\n",
       "      <td>0.000000</td>\n",
       "      <td>1.000000</td>\n",
       "      <td>43.000000</td>\n",
       "      <td>1.000000</td>\n",
       "      <td>128.000000</td>\n",
       "      <td>128.00000</td>\n",
       "      <td>128.00000</td>\n",
       "      <td>128.000000</td>\n",
       "      <td>128.000000</td>\n",
       "      <td>...</td>\n",
       "      <td>94.000000</td>\n",
       "      <td>94.000000</td>\n",
       "      <td>94.000000</td>\n",
       "      <td>95.000000</td>\n",
       "      <td>94.000000</td>\n",
       "      <td>95.000000</td>\n",
       "      <td>95.000000</td>\n",
       "      <td>157.000000</td>\n",
       "      <td>68.000000</td>\n",
       "      <td>2.000000</td>\n",
       "    </tr>\n",
       "    <tr>\n",
       "      <th>75%</th>\n",
       "      <td>3750.250000</td>\n",
       "      <td>1.000000</td>\n",
       "      <td>1.000000</td>\n",
       "      <td>57.000000</td>\n",
       "      <td>1.000000</td>\n",
       "      <td>181.000000</td>\n",
       "      <td>180.00000</td>\n",
       "      <td>180.25000</td>\n",
       "      <td>180.000000</td>\n",
       "      <td>180.000000</td>\n",
       "      <td>...</td>\n",
       "      <td>131.000000</td>\n",
       "      <td>131.000000</td>\n",
       "      <td>132.000000</td>\n",
       "      <td>131.000000</td>\n",
       "      <td>131.000000</td>\n",
       "      <td>132.000000</td>\n",
       "      <td>132.000000</td>\n",
       "      <td>166.000000</td>\n",
       "      <td>84.000000</td>\n",
       "      <td>2.000000</td>\n",
       "    </tr>\n",
       "    <tr>\n",
       "      <th>max</th>\n",
       "      <td>5000.000000</td>\n",
       "      <td>1.000000</td>\n",
       "      <td>1.000000</td>\n",
       "      <td>69.000000</td>\n",
       "      <td>1.000000</td>\n",
       "      <td>228.000000</td>\n",
       "      <td>222.00000</td>\n",
       "      <td>223.00000</td>\n",
       "      <td>228.000000</td>\n",
       "      <td>225.000000</td>\n",
       "      <td>...</td>\n",
       "      <td>163.000000</td>\n",
       "      <td>173.000000</td>\n",
       "      <td>172.000000</td>\n",
       "      <td>169.000000</td>\n",
       "      <td>167.000000</td>\n",
       "      <td>169.000000</td>\n",
       "      <td>169.000000</td>\n",
       "      <td>190.000000</td>\n",
       "      <td>110.000000</td>\n",
       "      <td>2.000000</td>\n",
       "    </tr>\n",
       "  </tbody>\n",
       "</table>\n",
       "<p>8 rows × 28 columns</p>\n",
       "</div>"
      ],
      "text/plain": [
       "                id     Exercise         Diet          Age          Sex  \\\n",
       "count  5000.000000  5000.000000  4990.000000  5000.000000  5000.000000   \n",
       "mean   2500.500000     0.300000     0.600401    43.940400     0.502000   \n",
       "std    1443.520003     0.458303     0.489865    14.717098     0.500046   \n",
       "min       1.000000     0.000000     0.000000    20.000000     0.000000   \n",
       "25%    1250.750000     0.000000     0.000000    31.000000     0.000000   \n",
       "50%    2500.500000     0.000000     1.000000    43.000000     1.000000   \n",
       "75%    3750.250000     1.000000     1.000000    57.000000     1.000000   \n",
       "max    5000.000000     1.000000     1.000000    69.000000     1.000000   \n",
       "\n",
       "              SBP1        SBP2        SBP3         SBP4         SBP5  ...  \\\n",
       "count  5000.000000  5000.00000  5000.00000  5000.000000  5000.000000  ...   \n",
       "mean    142.487600   142.42360   142.48320   142.519400   142.494400  ...   \n",
       "std      36.403408    36.32087    36.38728    36.298275    36.471638  ...   \n",
       "min      65.000000    68.00000    64.00000    64.000000    62.000000  ...   \n",
       "25%     112.000000   112.00000   112.00000   113.000000   112.000000  ...   \n",
       "50%     128.000000   128.00000   128.00000   128.000000   128.000000  ...   \n",
       "75%     181.000000   180.00000   180.25000   180.000000   180.000000  ...   \n",
       "max     228.000000   222.00000   223.00000   228.000000   225.000000  ...   \n",
       "\n",
       "              DBP4         DBP5         DBP6         DBP7         DBP8  \\\n",
       "count  5000.000000  5000.000000  5000.000000  5000.000000  4965.000000   \n",
       "mean     98.283000    98.080200    98.251200    98.498600    98.485398   \n",
       "std      33.706577    33.944912    33.900099    33.937695    33.984462   \n",
       "min      20.000000    16.000000    22.000000    22.000000    23.000000   \n",
       "25%      69.000000    68.000000    68.000000    68.000000    68.000000   \n",
       "50%      94.000000    94.000000    94.000000    95.000000    94.000000   \n",
       "75%     131.000000   131.000000   132.000000   131.000000   131.000000   \n",
       "max     163.000000   173.000000   172.000000   169.000000   167.000000   \n",
       "\n",
       "              DBP9        DBP10       Height       Weight     Marriage  \n",
       "count  4933.000000  4933.000000  5000.000000  4903.000000  4967.000000  \n",
       "mean     98.566187    98.555848   158.913200    69.791556     1.539360  \n",
       "std      34.006248    33.951637    12.002253    20.119436     0.498499  \n",
       "min      21.000000    22.000000   140.000000    35.000000     1.000000  \n",
       "25%      68.000000    69.000000   150.000000    54.000000     1.000000  \n",
       "50%      95.000000    95.000000   157.000000    68.000000     2.000000  \n",
       "75%     132.000000   132.000000   166.000000    84.000000     2.000000  \n",
       "max     169.000000   169.000000   190.000000   110.000000     2.000000  \n",
       "\n",
       "[8 rows x 28 columns]"
      ]
     },
     "execution_count": 7,
     "metadata": {},
     "output_type": "execute_result"
    }
   ],
   "source": [
    "df = pd.read_csv(\"../../Dataset/epi_data.csv\")\n",
    "df.describe()"
   ]
  },
  {
   "cell_type": "markdown",
   "metadata": {},
   "source": [
    "# 선형대수 (1)\n",
    "행렬과 벡터는 데이터 과학에서 중요한 개념이다. 넘파이를 사용하여 행렬과 벡터를 생성하고 연산해보자."
   ]
  },
  {
   "cell_type": "markdown",
   "metadata": {},
   "source": [
    "## 만들어보기"
   ]
  },
  {
   "cell_type": "markdown",
   "metadata": {},
   "source": [
    "우선 벡터를 만들어보자."
   ]
  },
  {
   "cell_type": "code",
   "execution_count": null,
   "metadata": {},
   "outputs": [
    {
     "name": "stdout",
     "output_type": "stream",
     "text": [
      "1차원 벡터:\n",
      "[1 2 3 4 5]\n"
     ]
    }
   ],
   "source": [
    "# 1차원 벡터 생성\n",
    "vector = np.array([1, 2, 3, 4, 5])\n",
    "print(\"1차원 벡터:\")\n",
    "print(vector)"
   ]
  },
  {
   "cell_type": "code",
   "execution_count": null,
   "metadata": {},
   "outputs": [
    {
     "name": "stdout",
     "output_type": "stream",
     "text": [
      "[ 1.  2.  3.  4.  5.  6.  7.  8.  9. 10.]\n"
     ]
    }
   ],
   "source": [
    "vec2 = np.linspace(1, 10, 10)\n",
    "print(vec2)"
   ]
  },
  {
   "cell_type": "markdown",
   "metadata": {},
   "source": [
    "행렬 역시 만들어볼 수 있다."
   ]
  },
  {
   "cell_type": "code",
   "execution_count": null,
   "metadata": {},
   "outputs": [
    {
     "name": "stdout",
     "output_type": "stream",
     "text": [
      "\n",
      "2차원 행렬:\n",
      "[[1 2 3]\n",
      " [4 5 6]\n",
      " [7 8 9]]\n"
     ]
    }
   ],
   "source": [
    "# 2차원 행렬 생성\n",
    "matrix = np.array([[1, 2, 3], [4, 5, 6], [7, 8, 9]])\n",
    "print(\"\\n2차원 행렬:\")\n",
    "print(matrix)"
   ]
  },
  {
   "cell_type": "code",
   "execution_count": null,
   "metadata": {},
   "outputs": [
    {
     "name": "stdout",
     "output_type": "stream",
     "text": [
      "\n",
      "단위 행렬:\n",
      "[[1. 0. 0.]\n",
      " [0. 1. 0.]\n",
      " [0. 0. 1.]]\n"
     ]
    }
   ],
   "source": [
    "# 단위 행렬 생성\n",
    "identity_matrix = np.eye(3)\n",
    "print(\"\\n단위 행렬:\")\n",
    "print(identity_matrix)"
   ]
  },
  {
   "cell_type": "code",
   "execution_count": null,
   "metadata": {},
   "outputs": [
    {
     "name": "stdout",
     "output_type": "stream",
     "text": [
      "\n",
      "영행렬:\n",
      "[[0. 0. 0.]\n",
      " [0. 0. 0.]\n",
      " [0. 0. 0.]]\n"
     ]
    }
   ],
   "source": [
    "# 영행렬 생성\n",
    "zero_matrix = np.zeros((3, 3))\n",
    "print(\"\\n영행렬:\")\n",
    "print(zero_matrix)"
   ]
  },
  {
   "cell_type": "code",
   "execution_count": null,
   "metadata": {},
   "outputs": [
    {
     "name": "stdout",
     "output_type": "stream",
     "text": [
      "\n",
      "1로 채워진 행렬:\n",
      "[[1. 1. 1.]\n",
      " [1. 1. 1.]\n",
      " [1. 1. 1.]]\n"
     ]
    }
   ],
   "source": [
    "# 1로 채워진 행렬 생성\n",
    "ones_matrix = np.ones((3, 3))\n",
    "print(\"\\n1로 채워진 행렬:\")\n",
    "print(ones_matrix)"
   ]
  },
  {
   "cell_type": "code",
   "execution_count": null,
   "metadata": {},
   "outputs": [
    {
     "name": "stdout",
     "output_type": "stream",
     "text": [
      "\n",
      "대각 행렬:\n",
      "[[1 0 0]\n",
      " [0 2 0]\n",
      " [0 0 3]]\n"
     ]
    }
   ],
   "source": [
    "# 대각 행렬 생성\n",
    "diagonal_matrix = np.diag([1, 2, 3])\n",
    "print(\"\\n대각 행렬:\")\n",
    "print(diagonal_matrix)"
   ]
  },
  {
   "cell_type": "code",
   "execution_count": null,
   "metadata": {},
   "outputs": [
    {
     "name": "stdout",
     "output_type": "stream",
     "text": [
      "\n",
      "난수 행렬:\n",
      "[[0.16262346 0.47523169 0.22401507]\n",
      " [0.16971136 0.39419156 0.27607043]\n",
      " [0.17318034 0.98440237 0.8384508 ]]\n"
     ]
    }
   ],
   "source": [
    "# 난수 행렬 생성\n",
    "random_matrix = np.random.rand(3, 3)\n",
    "print(\"\\n난수 행렬:\")\n",
    "print(random_matrix)"
   ]
  },
  {
   "cell_type": "markdown",
   "metadata": {},
   "source": [
    "## 벡터의 연산"
   ]
  },
  {
   "cell_type": "code",
   "execution_count": null,
   "metadata": {},
   "outputs": [],
   "source": [
    "# 벡터 생성\n",
    "vector1 = np.array([1, 2, 3])\n",
    "vector2 = np.array([4, 5, 6])"
   ]
  },
  {
   "cell_type": "markdown",
   "metadata": {},
   "source": [
    "벡터의 덧셈, 상수배, inner product를 구현해보자.\n",
    "* 덧셈 : 벡터 간의 덧셈\n",
    "* 상수배 : 벡터와 숫자(스칼라)를 서로 곱한것.\n",
    "* dot product : 벡터와 벡터 간의 곱셈. 결과는 숫자."
   ]
  },
  {
   "cell_type": "code",
   "execution_count": null,
   "metadata": {},
   "outputs": [
    {
     "name": "stdout",
     "output_type": "stream",
     "text": [
      "벡터 덧셈:\n",
      "[1 2 3] + [4 5 6] = [5 7 9]\n",
      "\n",
      "벡터 상수배:\n",
      "3 * [1 2 3] = [3 6 9]\n",
      "\n",
      "벡터 내적 (dot Product):\n",
      "[1 2 3] • [4 5 6] = 32\n"
     ]
    }
   ],
   "source": [
    "# 벡터 덧셈\n",
    "vector_sum = vector1 + vector2\n",
    "print(\"벡터 덧셈:\")\n",
    "print(f\"{vector1} + {vector2} = {vector_sum}\")\n",
    "\n",
    "# 벡터 상수배\n",
    "scalar = 3\n",
    "vector_scalar_multiplication = scalar * vector1\n",
    "print(\"\\n벡터 상수배:\")\n",
    "print(f\"{scalar} * {vector1} = {vector_scalar_multiplication}\")\n",
    "\n",
    "# 벡터 내적 (dot Product)\n",
    "inner_product = np.dot(vector1, vector2)\n",
    "print(\"\\n벡터 내적 (dot Product):\")\n",
    "print(f\"{vector1} • {vector2} = {inner_product}\")\n"
   ]
  },
  {
   "cell_type": "markdown",
   "metadata": {},
   "source": [
    "이어서 cross product, outer product, hadamond product를 구현\n",
    "* cross product : 벡터와 벡터를 곱함. 결과는 벡터\n",
    "* outer product : 벡터와 벡터를 곱함. 결과는 행렬"
   ]
  },
  {
   "cell_type": "code",
   "execution_count": null,
   "metadata": {},
   "outputs": [
    {
     "name": "stdout",
     "output_type": "stream",
     "text": [
      "\n",
      "벡터 외적 (Cross Product):\n",
      "[1 2 3] x [4 5 6] = [-3  6 -3]\n",
      "\n",
      "벡터 외적 (Outer Product):\n",
      "Outer product of [1 2 3] and [4 5 6] =\n",
      "[[ 4  5  6]\n",
      " [ 8 10 12]\n",
      " [12 15 18]]\n"
     ]
    }
   ],
   "source": [
    "# 벡터 외적 (Cross Product)\n",
    "vector_cross_product = np.cross(vector1, vector2)\n",
    "print(\"\\n벡터 외적 (Cross Product):\")\n",
    "print(f\"{vector1} x {vector2} = {vector_cross_product}\")\n",
    "\n",
    "# 벡터 외적 (Outer Product)\n",
    "outer_product = np.outer(vector1, vector2)\n",
    "print(\"\\n벡터 외적 (Outer Product):\")\n",
    "print(f\"Outer product of {vector1} and {vector2} =\\n{outer_product}\")"
   ]
  },
  {
   "cell_type": "markdown",
   "metadata": {},
   "source": [
    "## 행렬의 연산"
   ]
  },
  {
   "cell_type": "code",
   "execution_count": null,
   "metadata": {},
   "outputs": [],
   "source": [
    "# 행렬 정의\n",
    "matrix1 = np.array([[1, 2], [3, 4]])\n",
    "matrix2 = np.array([[5, 6], [7, 8]])"
   ]
  },
  {
   "cell_type": "markdown",
   "metadata": {},
   "source": [
    "행렬의 덧셈, 행렬끼리의 곱셈, 상수배, 역행렬을 구현해보자."
   ]
  },
  {
   "cell_type": "code",
   "execution_count": null,
   "metadata": {},
   "outputs": [
    {
     "name": "stdout",
     "output_type": "stream",
     "text": [
      "행렬의 덧셈:\n",
      " [[ 6  8]\n",
      " [10 12]]\n",
      "\n",
      "행렬의 곱셈:\n",
      " [[19 22]\n",
      " [43 50]]\n",
      "\n",
      "행렬의 상수배:\n",
      " [[ 3  6]\n",
      " [ 9 12]]\n"
     ]
    }
   ],
   "source": [
    "# 행렬 덧셈\n",
    "matrix_addition = matrix1 + matrix2\n",
    "print(\"행렬의 덧셈:\\n\", matrix_addition)\n",
    "\n",
    "# 행렬 곱셈 (행렬 내적)\n",
    "matrix_multiplication = np.dot(matrix1, matrix2)\n",
    "print(\"\\n행렬의 곱셈:\\n\", matrix_multiplication)\n",
    "\n",
    "# 상수배 연산\n",
    "constant = 3\n",
    "matrix_scalar_multiplication = constant * matrix1\n",
    "print(\"\\n행렬의 상수배:\\n\", matrix_scalar_multiplication)"
   ]
  },
  {
   "cell_type": "code",
   "execution_count": null,
   "metadata": {},
   "outputs": [
    {
     "name": "stdout",
     "output_type": "stream",
     "text": [
      "Original Matrix A:\n",
      "[[1 2]\n",
      " [3 4]]\n",
      "Inverse of Matrix A:\n",
      "[[-2.   1. ]\n",
      " [ 1.5 -0.5]]\n"
     ]
    }
   ],
   "source": [
    "# 정사각 행렬 생성\n",
    "A = np.array([[1, 2], [3, 4]])\n",
    "print(\"Original Matrix A:\")\n",
    "print(A)\n",
    "\n",
    "A_inv = np.linalg.inv(A)\n",
    "print(\"Inverse of Matrix A:\")\n",
    "print(A_inv)\n"
   ]
  },
  {
   "cell_type": "markdown",
   "metadata": {},
   "source": [
    "이어서, 여러 가지 종류의 곱셈(Product)을 구현해보자."
   ]
  },
  {
   "cell_type": "code",
   "execution_count": null,
   "metadata": {},
   "outputs": [],
   "source": [
    "# Test matrices and vectors\n",
    "A = np.array([[1, 2], [3, 4]])\n",
    "B = np.array([[5, 6], [7, 8]])\n",
    "a = np.array([1, 2, 3])\n",
    "b = np.array([4, 5, 6])\n",
    "\n",
    "# Pretty print function\n",
    "def pretty_print(matrix, name):\n",
    "    print(f\"{name}:\\n{matrix}\\n\")"
   ]
  },
  {
   "cell_type": "markdown",
   "metadata": {},
   "source": [
    "### Hadamard Product\n",
    "Hadamard Product는 행렬의 대응하는 원소끼리 곱하는 것이다. 이는 Element-wise Multiplication이라고도 한다.\n",
    "\n",
    "예시:\n",
    "$A = \\begin{pmatrix}\n",
    "1 & 2 \\\\\n",
    "3 & 4 \n",
    "\\end{pmatrix}$, \n",
    "$B = \\begin{pmatrix}\n",
    "5 & 6 \\\\\n",
    "7 & 8 \n",
    "\\end{pmatrix}$\n",
    "\n",
    "Hadamard Product는 다음과 같다:\n",
    "$A \\circ B = \\begin{pmatrix}\n",
    "1 \\cdot 5 & 2 \\cdot 6 \\\\\n",
    "3 \\cdot 7 & 4 \\cdot 8 \n",
    "\\end{pmatrix} = \\begin{pmatrix}\n",
    "5 & 12 \\\\\n",
    "21 & 32 \n",
    "\\end{pmatrix}$"
   ]
  },
  {
   "cell_type": "code",
   "execution_count": null,
   "metadata": {},
   "outputs": [
    {
     "name": "stdout",
     "output_type": "stream",
     "text": [
      "Hadamard Product:\n",
      "[[ 5 12]\n",
      " [21 32]]\n",
      "\n"
     ]
    }
   ],
   "source": [
    "# Hadamard Product\n",
    "pretty_print(A * B, \"Hadamard Product\")"
   ]
  },
  {
   "cell_type": "markdown",
   "metadata": {},
   "source": [
    "### Kronecker Product\n",
    "Kronecker Product는 두 행렬의 모든 가능한 곱을 행렬 형태로 구성한 것이다.\n",
    "\n",
    "예시:\n",
    "$A = \\begin{pmatrix}\n",
    "1 & 2 \\\\\n",
    "3 & 4 \n",
    "\\end{pmatrix}$, \n",
    "$B = \\begin{pmatrix}\n",
    "0 & 5 \\\\\n",
    "6 & 7 \n",
    "\\end{pmatrix}$\n",
    "\n",
    "Kronecker Product는 다음과 같다:\n",
    "$A \\otimes B = \\begin{pmatrix}\n",
    "1 \\cdot B & 2 \\cdot B \\\\\n",
    "3 \\cdot B & 4 \\cdot B \n",
    "\\end{pmatrix} = \\begin{pmatrix}\n",
    "0 & 5 & 0 & 10 \\\\\n",
    "6 & 7 & 12 & 14 \\\\\n",
    "0 & 15 & 0 & 20 \\\\\n",
    "18 & 21 & 24 & 28 \n",
    "\\end{pmatrix}$"
   ]
  },
  {
   "cell_type": "code",
   "execution_count": null,
   "metadata": {},
   "outputs": [
    {
     "name": "stdout",
     "output_type": "stream",
     "text": [
      "Kronecker Product:\n",
      "[[ 5  6 10 12]\n",
      " [ 7  8 14 16]\n",
      " [15 18 20 24]\n",
      " [21 24 28 32]]\n",
      "\n"
     ]
    }
   ],
   "source": [
    "pretty_print(np.kron(A, B), \"Kronecker Product\")"
   ]
  },
  {
   "cell_type": "markdown",
   "metadata": {},
   "source": [
    "### Tensor Product\n",
    "Tensor Product는 두 텐서의 모든 가능한 곱을 구성한 것이다. 이는 높은 차원의 텐서를 생성한다.\n",
    "\n",
    "예시:\n",
    "$A = \\begin{pmatrix}\n",
    "1 & 2 \\\\\n",
    "3 & 4 \n",
    "\\end{pmatrix}$, \n",
    "$B = \\begin{pmatrix}\n",
    "5 & 6 \\\\\n",
    "7 & 8 \n",
    "\\end{pmatrix}$\n",
    "\n",
    "Tensor Product는 다음과 같다:\n",
    "$A \\otimes B$는 4차원 텐서를 생성하며, 각 차원의 슬라이스는 다음과 같다:\n",
    "\n",
    "Slice 0:\n",
    "$\\begin{pmatrix}\n",
    "5 & 6 \\\\\n",
    "7 & 8 \n",
    "\\end{pmatrix}$\n",
    "\n",
    "Slice 1:\n",
    "$\\begin{pmatrix}\n",
    "10 & 12 \\\\\n",
    "14 & 16 \n",
    "\\end{pmatrix}$\n",
    "\n",
    "Slice 2:\n",
    "$\\begin{pmatrix}\n",
    "15 & 18 \\\\\n",
    "21 & 24 \n",
    "\\end{pmatrix}$\n",
    "\n",
    "Slice 3:\n",
    "$\\begin{pmatrix}\n",
    "20 & 24 \\\\\n",
    "28 & 32 \n",
    "\\end{pmatrix}$\n"
   ]
  },
  {
   "cell_type": "code",
   "execution_count": null,
   "metadata": {},
   "outputs": [
    {
     "name": "stdout",
     "output_type": "stream",
     "text": [
      "Tensor Product:\n",
      "Slice 0:\n",
      "[[[ 5  6]\n",
      "  [ 7  8]]\n",
      "\n",
      " [[10 12]\n",
      "  [14 16]]]\n",
      "\n",
      "Slice 1:\n",
      "[[[15 18]\n",
      "  [21 24]]\n",
      "\n",
      " [[20 24]\n",
      "  [28 32]]]\n",
      "\n"
     ]
    }
   ],
   "source": [
    "# Tensor Product\n",
    "def tensor_product(A, B):\n",
    "    return np.tensordot(A, B, axes=0)\n",
    "\n",
    "tensor_prod = tensor_product(A, B)\n",
    "print(\"Tensor Product:\")\n",
    "for i in range(tensor_prod.shape[0]):\n",
    "    print(f\"Slice {i}:\\n{tensor_prod[i]}\\n\")"
   ]
  },
  {
   "cell_type": "markdown",
   "metadata": {},
   "source": [
    "# 선형대수 (2)"
   ]
  },
  {
   "cell_type": "markdown",
   "metadata": {},
   "source": [
    "## 연립방정식 풀기"
   ]
  },
  {
   "cell_type": "markdown",
   "metadata": {},
   "source": [
    "넘파이의 `linalg.solve` 함수를 사용하여 선형 시스템을 풀 수 있다. 위 예제는 두 개의 방정식을 풀어 해를 구한 것이다."
   ]
  },
  {
   "cell_type": "code",
   "execution_count": null,
   "metadata": {},
   "outputs": [
    {
     "data": {
      "text/plain": [
       "array([7., 5.])"
      ]
     },
     "execution_count": 116,
     "metadata": {},
     "output_type": "execute_result"
    }
   ],
   "source": [
    "# 선형 시스템 풀기 예제\n",
    "C = np.array([[1, 1], [1, -1]])\n",
    "D = np.array([12, 2])\n",
    "np.linalg.solve(C, D)"
   ]
  },
  {
   "cell_type": "markdown",
   "metadata": {},
   "source": [
    "## 행렬과 벡터공간\n",
    "* 특정한 규칙을 만족하는 벡터의 집합을 우리는 벡터공간이라고 한다.\n",
    "* 행렬을 벡터의 집합으로 생각할 수 있고, 따라서 행렬은 벡터공간이다.\n",
    "* 이때 행렬을 구성하는 벡터 간의 관계를 생각해볼 수 있으며, 각 벡터가 서로에게 얼마나 영향력을 끼치고 있는지를 선형종속/선형독립이라고 한다.\n",
    "* 한 행렬을 구성하는 벡터들 중 완전히 독립인 벡터의 갯수를 랭크(rank)라고 한다.\n",
    "* 랭크(rank)를 구해보자."
   ]
  },
  {
   "cell_type": "code",
   "execution_count": null,
   "metadata": {},
   "outputs": [
    {
     "name": "stdout",
     "output_type": "stream",
     "text": [
      "Matrix A:\n",
      "[[1 2 3]\n",
      " [4 5 6]\n",
      " [7 8 9]]\n",
      "\n",
      "Rank of Matrix A:\n",
      "2\n"
     ]
    }
   ],
   "source": [
    "import numpy as np\n",
    "\n",
    "# 행렬 생성\n",
    "A = np.array([[1, 2, 3], [4, 5, 6], [7, 8, 9]])\n",
    "print(\"Matrix A:\")\n",
    "print(A)\n",
    "\n",
    "# 랭크 계산\n",
    "rank = np.linalg.matrix_rank(A)\n",
    "print(\"\\nRank of Matrix A:\")\n",
    "print(rank)"
   ]
  },
  {
   "cell_type": "markdown",
   "metadata": {},
   "source": [
    "행렬을 벡터공간으로 본다면, 두 벡터공간을 합치는 것도 가능할 것이다.  \n",
    "이를 직합(direct sum)이라고 한다."
   ]
  },
  {
   "cell_type": "code",
   "execution_count": null,
   "metadata": {},
   "outputs": [
    {
     "name": "stdout",
     "output_type": "stream",
     "text": [
      "Direct Sum:\n",
      " [[ 1.  2.  0.  0.  0.]\n",
      " [ 3.  4.  0.  0.  0.]\n",
      " [ 0.  0.  5.  6.  7.]\n",
      " [ 0.  0.  8.  9. 10.]\n",
      " [ 0.  0. 11. 12. 13.]]\n"
     ]
    }
   ],
   "source": [
    "import numpy as np\n",
    "\n",
    "# 행렬 정의\n",
    "matrix1 = np.array([[1, 2], [3, 4]])\n",
    "matrix2 = np.array([[5, 6, 7], [8, 9, 10], [11, 12, 13]])\n",
    "\n",
    "# 행렬의 크기\n",
    "m1, n1 = matrix1.shape\n",
    "m2, n2 = matrix2.shape\n",
    "\n",
    "# Direct Sum을 위한 블록 대각 행렬 생성\n",
    "direct_sum = np.zeros((m1 + m2, n1 + n2))\n",
    "direct_sum[:m1, :n1] = matrix1\n",
    "direct_sum[m1:, n1:] = matrix2\n",
    "\n",
    "print(\"Direct Sum:\\n\", direct_sum)"
   ]
  },
  {
   "cell_type": "markdown",
   "metadata": {},
   "source": [
    "## 고유값, 행렬분해"
   ]
  },
  {
   "cell_type": "code",
   "execution_count": null,
   "metadata": {},
   "outputs": [
    {
     "name": "stdout",
     "output_type": "stream",
     "text": [
      "고유값:\n",
      "[3. 2.]\n",
      "\n",
      "고유벡터:\n",
      "[[0.89442719 0.70710678]\n",
      " [0.4472136  0.70710678]]\n"
     ]
    }
   ],
   "source": [
    "import numpy as np\n",
    "\n",
    "# 행렬 생성\n",
    "A = np.array([[4, -2], \n",
    "              [1, 1]])\n",
    "\n",
    "# 고유값과 고유벡터 계산\n",
    "eigenvalues, eigenvectors = np.linalg.eig(A)\n",
    "\n",
    "print(\"고유값:\")\n",
    "print(eigenvalues)\n",
    "\n",
    "print(\"\\n고유벡터:\")\n",
    "print(eigenvectors)"
   ]
  },
  {
   "cell_type": "code",
   "execution_count": null,
   "metadata": {},
   "outputs": [
    {
     "name": "stdout",
     "output_type": "stream",
     "text": [
      "\n",
      "대각화된 행렬 A:\n",
      "[[ 4. -2.]\n",
      " [ 1.  1.]]\n"
     ]
    }
   ],
   "source": [
    "# 대각화\n",
    "D = np.diag(eigenvalues)  # 대각행렬\n",
    "P = eigenvectors  # 고유벡터 행렬\n",
    "P_inv = np.linalg.inv(P)  # 고유벡터 행렬의 역행렬\n",
    "\n",
    "# A = PDP^-1 확인\n",
    "A_diag = P @ D @ P_inv\n",
    "\n",
    "print(\"\\n대각화된 행렬 A:\")\n",
    "print(A_diag)"
   ]
  },
  {
   "cell_type": "markdown",
   "metadata": {},
   "source": [
    "## 유사역행렬"
   ]
  },
  {
   "cell_type": "code",
   "execution_count": null,
   "metadata": {},
   "outputs": [
    {
     "name": "stdout",
     "output_type": "stream",
     "text": [
      "유사역행렬:\n",
      "[[-0.94444444  0.44444444]\n",
      " [-0.11111111  0.11111111]\n",
      " [ 0.72222222 -0.22222222]]\n"
     ]
    }
   ],
   "source": [
    "import numpy as np\n",
    "\n",
    "# 행렬 생성\n",
    "A = np.array([[1, 2, 3], \n",
    "              [4, 5, 6]])\n",
    "\n",
    "# 유사역행렬 계산\n",
    "A_pseudo_inv = np.linalg.pinv(A)\n",
    "\n",
    "print(\"유사역행렬:\")\n",
    "print(A_pseudo_inv)"
   ]
  },
  {
   "cell_type": "markdown",
   "metadata": {},
   "source": [
    "## 이차형식"
   ]
  },
  {
   "cell_type": "code",
   "execution_count": null,
   "metadata": {},
   "outputs": [],
   "source": [
    "import numpy as np\n",
    "\n",
    "# 행렬 생성 (대칭행렬)\n",
    "A = np.array([[2, 1], \n",
    "              [1, 3]])\n",
    "\n",
    "# 벡터 생성\n",
    "x = np.array([1, 2])\n",
    "\n",
    "# 이차형식 계산\n",
    "quadratic_form = np.dot(x.T, np.dot(A, x))\n",
    "\n",
    "print(\"이차형식:\")\n",
    "print(quadratic_form)"
   ]
  },
  {
   "cell_type": "markdown",
   "metadata": {},
   "source": [
    "# 미적분\n",
    "미적분은 변화율과 적분을 다루는 수학의 한 분야로, 데이터 과학에서도 중요한 역할을 한다."
   ]
  },
  {
   "cell_type": "markdown",
   "metadata": {},
   "source": [
    "## 극한 계산\n",
    "다음 두 가지의 극한을 sympy로 계산해보자\n",
    "\n",
    "$$\n",
    "1. \\lim_{{x \\to 0}} \\frac{{\\sin(x)}}{x}  \\\\[15pt]\n",
    "2. \\lim_{{x \\to \\infty}} \\left(1 + \\frac{1}{x}\\right)^x\n",
    "$$"
   ]
  },
  {
   "cell_type": "code",
   "execution_count": null,
   "metadata": {},
   "outputs": [
    {
     "name": "stdout",
     "output_type": "stream",
     "text": [
      "x가 0으로 갈 때 sin(x)/x의 극한:\n",
      "1\n"
     ]
    }
   ],
   "source": [
    "import sympy as sp\n",
    "\n",
    "# 심볼릭 변수 정의\n",
    "x = sp.symbols('x')\n",
    "\n",
    "# 함수 정의\n",
    "f = sp.sin(x) / x\n",
    "\n",
    "# 극한 계산 (x가 0으로 갈 때)\n",
    "limit_at_0 = sp.limit(f, x, 0)\n",
    "\n",
    "print(\"x가 0으로 갈 때 sin(x)/x의 극한:\")\n",
    "print(limit_at_0)"
   ]
  },
  {
   "cell_type": "code",
   "execution_count": null,
   "metadata": {},
   "outputs": [
    {
     "name": "stdout",
     "output_type": "stream",
     "text": [
      "x가 무한대로 갈 때 (1 + 1/x)^x의 극한:\n",
      "E\n"
     ]
    }
   ],
   "source": [
    "# 또 다른 예제\n",
    "g = (1 + 1/x)**x\n",
    "\n",
    "# 극한 계산 (x가 무한대로 갈 때)\n",
    "limit_at_inf = sp.limit(g, x, sp.oo)\n",
    "\n",
    "print(\"x가 무한대로 갈 때 (1 + 1/x)^x의 극한:\")\n",
    "print(limit_at_inf)"
   ]
  },
  {
   "cell_type": "markdown",
   "metadata": {},
   "source": [
    "## 미분 계산"
   ]
  },
  {
   "cell_type": "markdown",
   "metadata": {},
   "source": [
    "함수 $f = x^2$와 $g = \\sin(x)$의 곱의 미분을 계산"
   ]
  },
  {
   "cell_type": "code",
   "execution_count": null,
   "metadata": {},
   "outputs": [
    {
     "name": "stdout",
     "output_type": "stream",
     "text": [
      "두 함수의 곱 (x^2 * sin(x))의 미분:\n",
      "x**2*cos(x) + 2*x*sin(x)\n"
     ]
    }
   ],
   "source": [
    "# 심볼릭 변수 정의\n",
    "x = sp.symbols('x')\n",
    "\n",
    "# 함수 정의\n",
    "f = x**2\n",
    "g = sp.sin(x)\n",
    "\n",
    "# 두 함수의 곱의 미분\n",
    "product_derivative = sp.diff(f * g, x)\n",
    "\n",
    "print(\"두 함수의 곱 (x^2 * sin(x))의 미분:\")\n",
    "print(product_derivative)"
   ]
  },
  {
   "cell_type": "markdown",
   "metadata": {},
   "source": [
    "$h = x^2 y + \\exp(x y)$를 정의하고, $x$와 $y$에 대한 편미분을 계산."
   ]
  },
  {
   "cell_type": "code",
   "execution_count": null,
   "metadata": {},
   "outputs": [
    {
     "name": "stdout",
     "output_type": "stream",
     "text": [
      "\n",
      "다변수 함수 (x^2 * y + exp(x * y))의 x에 대한 편미분:\n",
      "2*x*y + y*exp(x*y)\n",
      "\n",
      "다변수 함수 (x^2 * y + exp(x * y))의 y에 대한 편미분:\n",
      "x**2 + x*exp(x*y)\n"
     ]
    }
   ],
   "source": [
    "# 다변수 함수 정의\n",
    "y = sp.symbols('y')\n",
    "h = x**2 * y + sp.exp(x * y)\n",
    "\n",
    "# 다변수 함수의 편미분\n",
    "partial_derivative_x = sp.diff(h, x)\n",
    "partial_derivative_y = sp.diff(h, y)\n",
    "\n",
    "print(\"\\n다변수 함수 (x^2 * y + exp(x * y))의 x에 대한 편미분:\")\n",
    "print(partial_derivative_x)\n",
    "\n",
    "print(\"\\n다변수 함수 (x^2 * y + exp(x * y))의 y에 대한 편미분:\")\n",
    "print(partial_derivative_y)"
   ]
  },
  {
   "cell_type": "markdown",
   "metadata": {},
   "source": [
    "## 적분 계산"
   ]
  },
  {
   "cell_type": "markdown",
   "metadata": {},
   "source": [
    "함수 $f = x^2$와 $g = \\sin(x)$의 곱의 적분을 계산"
   ]
  },
  {
   "cell_type": "code",
   "execution_count": null,
   "metadata": {},
   "outputs": [
    {
     "name": "stdout",
     "output_type": "stream",
     "text": [
      "두 함수의 곱 (x^2 * sin(x))의 적분:\n",
      "-x**2*cos(x) + 2*x*sin(x) + 2*cos(x)\n"
     ]
    }
   ],
   "source": [
    "# 심볼릭 변수 정의\n",
    "x = sp.symbols('x')\n",
    "\n",
    "# 함수 정의\n",
    "f = x**2\n",
    "g = sp.sin(x)\n",
    "\n",
    "# 두 함수의 곱의 적분\n",
    "product_integral = sp.integrate(f * g, x)\n",
    "\n",
    "print(\"두 함수의 곱 (x^2 * sin(x))의 적분:\")\n",
    "print(product_integral)"
   ]
  },
  {
   "cell_type": "markdown",
   "metadata": {},
   "source": [
    "함수 $h = x^2 y + \\exp(x y)$를 정의하고, 범위 $0 \\le x \\le 1$ 및 $0 \\le y \\le 2$에서의 적분"
   ]
  },
  {
   "cell_type": "code",
   "execution_count": null,
   "metadata": {},
   "outputs": [
    {
     "name": "stdout",
     "output_type": "stream",
     "text": [
      "\n",
      "범위가 제한된 다변수 함수 (x^2 * y + exp(x * y))의 적분 (0 <= x <= 1, 0 <= y <= 2):\n",
      "-log(2) - EulerGamma + 2/3 + Ei(2)\n"
     ]
    }
   ],
   "source": [
    "# 다변수 함수 정의\n",
    "y = sp.symbols('y')\n",
    "h = x**2 * y + sp.exp(x * y)\n",
    "\n",
    "# 범위가 제한된 적분\n",
    "bounded_integral = sp.integrate(h, (x, 0, 1), (y, 0, 2))\n",
    "\n",
    "print(\"\\n범위가 제한된 다변수 함수 (x^2 * y + exp(x * y))의 적분 (0 <= x <= 1, 0 <= y <= 2):\")\n",
    "print(bounded_integral)"
   ]
  },
  {
   "cell_type": "markdown",
   "metadata": {},
   "source": [
    "## 테일러 급수 도출\n",
    "* `taylor_series` 함수는 주어진 함수 `func`의 변수 `var`에 대한 테일러 급수를 전개점 `point`를 중심으로 주어진 차수 `order`까지 도출\n",
    "* $\\sin(x)$ 함수의 테일러 급수를 $x = 0$을 중심으로 10차수까지 도출"
   ]
  },
  {
   "cell_type": "code",
   "execution_count": null,
   "metadata": {},
   "outputs": [
    {
     "name": "stdout",
     "output_type": "stream",
     "text": [
      "sin(x)의 테일러 급수:\n",
      "x**9/362880 - x**7/5040 + x**5/120 - x**3/6 + x\n"
     ]
    }
   ],
   "source": [
    "# 심볼릭 변수 정의\n",
    "x = sp.symbols('x')\n",
    "\n",
    "# 함수 정의\n",
    "f = sp.sin(x)\n",
    "\n",
    "# 테일러 급수 도출 함수 정의\n",
    "def taylor_series(func, var, point, order):\n",
    "    return func.series(var, point, order).removeO()\n",
    "\n",
    "# 테일러 급수 도출\n",
    "taylor_expansion = taylor_series(f, x, 0, 10)\n",
    "\n",
    "print(\"sin(x)의 테일러 급수:\")\n",
    "print(taylor_expansion)"
   ]
  },
  {
   "cell_type": "markdown",
   "metadata": {},
   "source": [
    "# 최적화 이론"
   ]
  },
  {
   "cell_type": "markdown",
   "metadata": {},
   "source": [
    "## 선형계획법\n"
   ]
  },
  {
   "cell_type": "markdown",
   "metadata": {},
   "source": [
    "최대화하고자 하는 목표 함수: $z = 3x_1 + 2x_2$\n",
    "\n",
    "제약 조건:\n",
    "$$\n",
    " x_1 + x_2 \\leq 4 \n",
    " 2x_1 + x_2 \\leq 5 \n",
    " x_1, x_2 \\geq 0 \n",
    "$$"
   ]
  },
  {
   "cell_type": "code",
   "execution_count": null,
   "metadata": {},
   "outputs": [
    {
     "name": "stdout",
     "output_type": "stream",
     "text": [
      "최적의 값: 9.0\n",
      "x1 값: 1.0\n",
      "x2 값: 3.0\n"
     ]
    },
    {
     "name": "stderr",
     "output_type": "stream",
     "text": [
      "/var/folders/j5/2p33mq0s3pbg5spm_mqqxgw00000gn/T/ipykernel_21852/854277105.py:20: DeprecationWarning: `method='simplex'` is deprecated and will be removed in SciPy 1.11.0. Please use one of the HiGHS solvers (e.g. `method='highs'`) in new code.\n",
      "  res = linprog(c, A_ub=A, b_ub=b, bounds=[x0_bounds, x1_bounds], method='simplex')\n"
     ]
    }
   ],
   "source": [
    "from scipy.optimize import linprog\n",
    "\n",
    "# 목표 함수 계수 (최대화를 최소화 문제로 변환: -c)\n",
    "c = [-3, -2]\n",
    "\n",
    "# 제약 조건 행렬 (좌변)\n",
    "A = [\n",
    "    [1, 1],\n",
    "    [2, 1]\n",
    "]\n",
    "\n",
    "# 제약 조건 상수 (우변)\n",
    "b = [4, 5]\n",
    "\n",
    "# 변수의 경계 (0 <= x1, 0 <= x2)\n",
    "x0_bounds = (0, None)\n",
    "x1_bounds = (0, None)\n",
    "\n",
    "# 선형 계획법 문제 해결\n",
    "res = linprog(c, A_ub=A, b_ub=b, bounds=[x0_bounds, x1_bounds], method='simplex')\n",
    "\n",
    "# 결과 출력\n",
    "print('최적의 값:', -res.fun)\n",
    "print('x1 값:', res.x[0])\n",
    "print('x2 값:', res.x[1])"
   ]
  },
  {
   "cell_type": "markdown",
   "metadata": {},
   "source": [
    "## 라그랑주 승수법\n",
    "\n",
    "최대화하고자 하는 목표 함수: $f(x, y) = x^2 + y^2 $\n",
    "\n",
    "제약 조건:\n",
    "$$\n",
    " g(x, y) = x + y - 1 = 0 \n",
    "$$"
   ]
  },
  {
   "cell_type": "code",
   "execution_count": null,
   "metadata": {},
   "outputs": [
    {
     "name": "stdout",
     "output_type": "stream",
     "text": [
      "x = 1/2, y = 1/2, λ = 1\n",
      "최적의 값: 1/2\n"
     ]
    }
   ],
   "source": [
    "# 변수 정의\n",
    "x, y, λ = sp.symbols('x y λ')\n",
    "\n",
    "# 목표 함수 정의\n",
    "f = x**2 + y**2\n",
    "\n",
    "# 제약 조건 정의\n",
    "g = x + y - 1\n",
    "\n",
    "# 라그랑주 함수 정의\n",
    "L = f - λ * g\n",
    "\n",
    "# 라그랑주 함수의 편도함수 계산\n",
    "Lx = sp.diff(L, x)\n",
    "Ly = sp.diff(L, y)\n",
    "Lλ = sp.diff(L, λ)\n",
    "\n",
    "# 방정식 세트 정의\n",
    "equations = [Lx, Ly, Lλ]\n",
    "\n",
    "# 방정식 세트를 풀기\n",
    "solution = sp.solve(equations, (x, y, λ))\n",
    "\n",
    "# 결과 출력\n",
    "print(f'x = {solution[x]}, y = {solution[y]}, λ = {solution[λ]}')\n",
    "\n",
    "# 최적값 계산\n",
    "optimal_value = f.subs({x: solution[x], y: solution[y]})\n",
    "print(f'최적의 값: {optimal_value}')"
   ]
  }
 ],
 "metadata": {
  "kernelspec": {
   "display_name": "myenv",
   "language": "python",
   "name": "python3"
  },
  "language_info": {
   "codemirror_mode": {
    "name": "ipython",
    "version": 3
   },
   "file_extension": ".py",
   "mimetype": "text/x-python",
   "name": "python",
   "nbconvert_exporter": "python",
   "pygments_lexer": "ipython3",
   "version": "3.12.4"
  }
 },
 "nbformat": 4,
 "nbformat_minor": 2
}
