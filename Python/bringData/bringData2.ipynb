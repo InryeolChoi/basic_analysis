{
 "cells": [
  {
   "cell_type": "markdown",
   "metadata": {},
   "source": [
    "# 데이터 파일 불러오기 (2)"
   ]
  },
  {
   "cell_type": "markdown",
   "metadata": {},
   "source": [
    "* 인제 좀 익숙하지 않은 형식의 파일도 불러와보자.\n",
    "* 많은 데이터들이 정형화된 구조에서 반정형, 비정형 구조로 가고 있다. 이것 역시 익숙해질 필요가 있다.\n",
    "* 여기서는 반정형 구조인 XML, JSON 형식의 파일과 데이터베이스의 파일을 불러오는 연습을 해보자"
   ]
  },
  {
   "cell_type": "markdown",
   "metadata": {},
   "source": [
    "## 1. XML 파일 불러오기\n",
    "- XML 파일은 계층 구조를 가진 데이터 파일 형식이다.\n",
    "- 키와 값으로 구성된 트리 형태를 가지고 있다고 보면 된다."
   ]
  },
  {
   "cell_type": "code",
   "execution_count": 1,
   "metadata": {},
   "outputs": [],
   "source": [
    "# xml.etree.ElementTree를 사용하여 XML 파일 불러오기\n",
    "import xml.etree.ElementTree as ET\n",
    "\n",
    "# 예시 XML 파일 경로\n",
    "xml_file_path = 'example.xml'\n",
    "\n",
    "# XML 파일 파싱\n",
    "tree = ET.parse(xml_file_path)\n",
    "root = tree.getroot()\n",
    "\n",
    "# XML 데이터 확인\n",
    "for child in root:\n",
    "    print(child.tag, child.attrib)"
   ]
  },
  {
   "cell_type": "markdown",
   "metadata": {},
   "source": [
    "## 2. JSON 파일 불러오기\n",
    "- JSON 파일은 자바스크립트 객체 표기법을 사용한 데이터 파일 형식으로, 역시 xml과 마찬가지로 트리구조이다.\n",
    "- 점점 더 많은 파일들이 JSON 형식을 띄고 있다."
   ]
  },
  {
   "cell_type": "code",
   "execution_count": 2,
   "metadata": {},
   "outputs": [],
   "source": [
    "# json 모듈을 사용하여 JSON 파일 불러오기\n",
    "import json\n",
    "\n",
    "# 예시 JSON 파일 경로\n",
    "json_file_path = 'example.json'\n",
    "\n",
    "# JSON 파일 읽기\n",
    "with open(json_file_path, 'r') as f:\n",
    "    data_json = json.load(f)\n",
    "\n",
    "# JSON 데이터 확인\n",
    "print(json.dumps(data_json, indent=4))"
   ]
  },
  {
   "cell_type": "markdown",
   "metadata": {},
   "source": [
    "## 3. SQL 데이터베이스 불러오기\n",
    "SQL 데이터베이스는 관계형 데이터베이스로, `sqlite3` 모듈을 사용하여 SQL 데이터베이스에 접근할 수 있다."
   ]
  },
  {
   "cell_type": "code",
   "execution_count": 3,
   "metadata": {},
   "outputs": [],
   "source": [
    "# sqlite3 모듈을 사용하여 SQL 데이터베이스 불러오기\n",
    "import sqlite3\n",
    "\n",
    "# 예시 SQLite 데이터베이스 파일 경로\n",
    "sql_file_path = 'example.db'\n",
    "\n",
    "# SQLite 데이터베이스 연결\n",
    "conn = sqlite3.connect(sql_file_path)\n",
    "cursor = conn.cursor()\n",
    "\n",
    "# 테이블 목록 확인\n",
    "cursor.execute(\"SELECT name FROM sqlite_master WHERE type='table';\")\n",
    "tables = cursor.fetchall()\n",
    "print(\"Tables: \", tables)\n",
    "\n",
    "# 특정 테이블의 데이터 조회\n",
    "table_name = 'your_table_name'\n",
    "cursor.execute(f\"SELECT * FROM {table_name}\")\n",
    "rows = cursor.fetchall()\n",
    "for row in rows:\n",
    "    print(row)\n",
    "\n",
    "# 연결 종료\n",
    "conn.close()"
   ]
  },
  {
   "cell_type": "markdown",
   "metadata": {},
   "source": [
    "## 4. NoSQL 데이터베이스 불러오기\n",
    "NoSQL 데이터베이스는 비관계형 데이터베이스로, `pymongo` 모듈을 사용하여 MongoDB에 접근할 수 있다."
   ]
  },
  {
   "cell_type": "code",
   "execution_count": 4,
   "metadata": {},
   "outputs": [],
   "source": [
    "# pymongo 모듈을 사용하여 NoSQL 데이터베이스 (MongoDB) 불러오기\n",
    "import pymongo\n",
    "\n",
    "# MongoDB에 연결\n",
    "client = pymongo.MongoClient(\"mongodb://localhost:27017/\")\n",
    "db = client['your_database_name']\n",
    "collection = db['your_collection_name']\n",
    "\n",
    "# 컬렉션의 데이터 확인\n",
    "for document in collection.find():\n",
    "    print(document)\n",
    "\n",
    "# 연결 종료\n",
    "client.close()"
   ]
  }
 ],
 "metadata": {
  "kernelspec": {
   "display_name": "Python 3",
   "language": "python",
   "name": "python3"
  },
  "language_info": {
   "codemirror_mode": {
    "name": "ipython",
    "version": 3
   },
   "file_extension": ".py",
   "mimetype": "text/x-python",
   "name": "python",
   "nbconvert_exporter": "python",
   "pygments_lexer": "ipython3",
   "version": "3.8.5"
  }
 },
 "nbformat": 4,
 "nbformat_minor": 4
}
