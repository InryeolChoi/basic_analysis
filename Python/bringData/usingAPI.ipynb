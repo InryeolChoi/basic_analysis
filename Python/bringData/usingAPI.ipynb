{
 "cells": [
  {
   "cell_type": "markdown",
   "metadata": {},
   "source": [
    "# API를 이용한 데이터 불러오기\n",
    "* API(Application Programming Interface)는 소프트웨어 애플리케이션 간의 상호 작용을 가능하게 하는 인터페이스다. \n",
    "* API는 다양한 기능과 데이터를 외부 애플리케이션에 제공하며, 이를 통해 개발자들은 애플리케이션을 확장하거나 통합할 수 있다."
   ]
  },
  {
   "cell_type": "markdown",
   "metadata": {},
   "source": [
    "API는 일반적으로 다음과 같은 원리로 동작한다:\n",
    "1. **요청(Request)**: 클라이언트(사용자)는 특정 엔드포인트(URL)로 요청을 보낸다. 이 요청은 GET, POST, PUT, DELETE 등의 HTTP 메서드를 사용하여 데이터를 요청하거나 전송할 수 있다.\n",
    "2. **인증(Authentication)**: 많은 API는 사용자를 인증하기 위해 API 키 또는 OAuth 토큰을 요구한다. 이를 통해 API 제공자는 사용자를 식별하고, 권한을 관리할 수 있다.\n",
    "3. **응답(Response)**: 서버(API 제공자)는 요청을 처리한 후, 클라이언트에게 응답을 보낸다. 응답은 일반적으로 JSON 또는 XML 형식의 데이터로 반환된다.\n",
    "4. **데이터 처리(Data Processing)**: 클라이언트는 응답으로 받은 데이터를 처리하여 애플리케이션에 필요한 형태로 변환한다."
   ]
  },
  {
   "cell_type": "markdown",
   "metadata": {},
   "source": [
    "## 1. API 요청 보내기\n",
    "requests 라이브러리를 사용하여 API 요청을 보낸다. 여기서는 예시로 OpenWeatherMap API를 사용하여 날씨 데이터를 불러온다."
   ]
  },
  {
   "cell_type": "code",
   "execution_count": 1,
   "metadata": {},
   "outputs": [],
   "source": [
    "# requests 라이브러리 설치 (필요한 경우)\n",
    "# !pip install requests\n",
    "\n",
    "# requests 라이브러리 임포트\n",
    "import requests\n",
    "\n",
    "# API 키 (여기서는 예시로 'your_api_key' 사용)\n",
    "api_key = 'your_api_key'\n",
    "\n",
    "# API 엔드포인트 및 파라미터 설정\n",
    "base_url = 'http://api.openweathermap.org/data/2.5/weather'\n",
    "params = {\n",
    "    'q': 'Seoul',  # 도시 이름\n",
    "    'appid': api_key,  # API 키\n",
    "    'units': 'metric'  # 섭씨 단위 사용\n",
    "}\n",
    "\n",
    "# API 요청 보내기\n",
    "response = requests.get(base_url, params=params)\n",
    "\n",
    "# 응답 상태 코드 확인\n",
    "if response.status_code == 200:\n",
    "    print('요청 성공')\n",
    "else:\n",
    "    print('요청 실패:', response.status_code)"
   ]
  },
  {
   "cell_type": "markdown",
   "metadata": {},
   "source": [
    "## 2. 응답 데이터 처리\n",
    "API 응답으로 받은 JSON 데이터를 파싱하고, 필요한 정보를 추출한다."
   ]
  },
  {
   "cell_type": "code",
   "execution_count": 2,
   "metadata": {},
   "outputs": [],
   "source": [
    "# 응답 데이터 파싱\n",
    "data = response.json()\n",
    "\n",
    "# JSON 데이터 확인\n",
    "import json\n",
    "print(json.dumps(data, indent=4))\n",
    "\n",
    "# 필요한 정보 추출\n",
    "city = data['name']\n",
    "temperature = data['main']['temp']\n",
    "weather = data['weather'][0]['description']\n",
    "\n",
    "# 정보 출력\n",
    "print(f'도시: {city}')\n",
    "print(f'온도: {temperature}°C')\n",
    "print(f'날씨: {weather}')"
   ]
  },
  {
   "cell_type": "markdown",
   "metadata": {},
   "source": [
    "## 3. 데이터 시각화\n",
    "추출한 데이터를 시각화하여 결과를 확인한다. 여기서는 matplotlib 라이브러리를 사용하여 간단한 시각화를 수행한다."
   ]
  },
  {
   "cell_type": "code",
   "execution_count": 3,
   "metadata": {},
   "outputs": [],
   "source": [
    "# matplotlib 라이브러리 설치 (필요한 경우)\n",
    "# !pip install matplotlib\n",
    "\n",
    "# matplotlib 라이브러리 임포트\n",
    "import matplotlib.pyplot as plt\n",
    "\n",
    "# 도시와 온도를 막대 그래프로 시각화\n",
    "cities = ['Seoul']\n",
    "temperatures = [temperature]\n",
    "\n",
    "plt.bar(cities, temperatures)\n",
    "plt.xlabel('도시')\n",
    "plt.ylabel('온도 (°C)')\n",
    "plt.title('도시별 온도')\n",
    "plt.show()"
   ]
  }
 ],
 "metadata": {
  "kernelspec": {
   "display_name": "Python 3",
   "language": "python",
   "name": "python3"
  },
  "language_info": {
   "codemirror_mode": {
    "name": "ipython",
    "version": 3
   },
   "file_extension": ".py",
   "mimetype": "text/x-python",
   "name": "python",
   "nbconvert_exporter": "python",
   "pygments_lexer": "ipython3",
   "version": "3.8.5"
  }
 },
 "nbformat": 4,
 "nbformat_minor": 4
}
