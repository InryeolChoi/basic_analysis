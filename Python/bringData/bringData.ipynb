{
 "cells": [
  {
   "cell_type": "markdown",
   "metadata": {},
   "source": [
    "# 데이터 파일 불러오기 (1)"
   ]
  },
  {
   "cell_type": "markdown",
   "metadata": {},
   "source": [
    "* 데이터분석을 하려면 가장 먼저 해야하는 것은 무엇일까? 바로 데이터를 불러오는 것이다.\n",
    "* 대부분의 데이터는 특정한 포맷에 근거해 만들어져 있고, 이것을 가지고 오는 것은 중요한 작업이다. \n",
    "* 여기서는 `.csv`, `.txt`와 같은 정형 데이터를 불러오는 연습을 해보자."
   ]
  },
  {
   "cell_type": "markdown",
   "metadata": {},
   "source": [
    "## 1. CSV 파일 불러오기\n",
    "CSV 파일은 콤마로 구분된 값으로 구성된 파일 형식이다."
   ]
  },
  {
   "cell_type": "code",
   "execution_count": 1,
   "metadata": {},
   "outputs": [],
   "source": [
    "# pandas를 사용하여 csv 파일 불러오기\n",
    "import pandas as pd\n",
    "\n",
    "# 예시 csv 파일 경로\n",
    "csv_file_path = 'example.csv'\n",
    "\n",
    "# csv 파일 읽기\n",
    "data_csv = pd.read_csv(csv_file_path)\n",
    "data_csv.head()"
   ]
  },
  {
   "cell_type": "markdown",
   "metadata": {},
   "source": [
    "## 2. TXT 파일 불러오기\n",
    "TXT 파일은 일반 텍스트 파일로, 공백이나 탭으로 구분된 데이터가 포함될 수 있다."
   ]
  },
  {
   "cell_type": "code",
   "execution_count": 2,
   "metadata": {},
   "outputs": [],
   "source": [
    "# pandas를 사용하여 txt 파일 불러오기\n",
    "import pandas as pd\n",
    "\n",
    "# 예시 txt 파일 경로\n",
    "txt_file_path = 'example.txt'\n",
    "\n",
    "# txt 파일 읽기 (구분자가 공백 또는 탭일 경우)\n",
    "data_txt = pd.read_csv(txt_file_path, delimiter='\\t')\n",
    "data_txt.head()"
   ]
  },
  {
   "cell_type": "markdown",
   "metadata": {},
   "source": [
    "## 3. RData 파일 불러오기\n",
    "RData 파일은 R에서 저장된 데이터 파일로, Python에서는 rpy2 라이브러리를 사용한다."
   ]
  },
  {
   "cell_type": "code",
   "execution_count": 3,
   "metadata": {},
   "outputs": [],
   "source": [
    "# rpy2를 사용하여 RData 파일 불러오기\n",
    "import rpy2.robjects as robjects\n",
    "from rpy2.robjects import pandas2ri\n",
    "pandas2ri.activate()\n",
    "\n",
    "# 예시 RData 파일 경로\n",
    "rdata_file_path = 'example.RData'\n",
    "\n",
    "# RData 파일 읽기\n",
    "robjects.r['load'](rdata_file_path)\n",
    "\n",
    "# R 데이터 프레임을 pandas 데이터 프레임으로 변환\n",
    "data_rdata = pandas2ri.rpy2py(robjects.r['your_r_dataframe_name'])\n",
    "data_rdata.head()"
   ]
  },
  {
   "cell_type": "markdown",
   "metadata": {},
   "source": [
    "## 4. XLSX 파일 불러오기\n",
    "XLSX 파일은 Excel 형식의 파일로, pandas의 read_excel 함수를 사용하여 불러올 수 있다."
   ]
  },
  {
   "cell_type": "code",
   "execution_count": 4,
   "metadata": {},
   "outputs": [],
   "source": [
    "# pandas를 사용하여 xlsx 파일 불러오기\n",
    "import pandas as pd\n",
    "\n",
    "# 예시 xlsx 파일 경로\n",
    "xlsx_file_path = 'example.xlsx'\n",
    "\n",
    "# xlsx 파일 읽기\n",
    "data_xlsx = pd.read_excel(xlsx_file_path)\n",
    "data_xlsx.head()"
   ]
  }
 ],
 "metadata": {
  "kernelspec": {
   "display_name": "Python 3",
   "language": "python",
   "name": "python3"
  },
  "language_info": {
   "codemirror_mode": {
    "name": "ipython",
    "version": 3
   },
   "file_extension": ".py",
   "mimetype": "text/x-python",
   "name": "python",
   "nbconvert_exporter": "python",
   "pygments_lexer": "ipython3",
   "version": "3.8.5"
  }
 },
 "nbformat": 4,
 "nbformat_minor": 4
}
