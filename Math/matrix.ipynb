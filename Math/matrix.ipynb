{
    "cells": [
     {
      "cell_type": "markdown",
      "metadata": {},
      "source": [
       "# 행렬(Matrix)\n",
       "\n",
       "행렬(Matrix)은 숫자나 변수를 사각형 형태로 배열한 것입니다. 행렬은 주로 선형 대수학에서 사용되며, 데이터 분석, 기계 학습 등 다양한 분야에서 활용됩니다.\n",
       "\n",
       "행렬은 보통 대문자 글자로 표시하며, 각각의 원소는 행(row)과 열(column)의 인덱스로 나타냅니다. 예를 들어, 2x3 행렬 A는 다음과 같습니다.\n",
       "\n",
       "A = \\[\n",
       "  [a11, a12, a13],\n",
       "  [a21, a22, a23]\n",
       "\\]\n",
       "\n",
       "여기서 aij는 i번째 행, j번째 열에 있는 원소를 의미합니다."
      ]
     },
     {
      "cell_type": "markdown",
      "metadata": {},
      "source": [
       "## 행렬의 덧셈\n",
       "\n",
       "두 행렬의 덧셈은 같은 위치에 있는 원소끼리 더하는 것입니다. 예를 들어, 두 행렬 A와 B의 덧셈은 다음과 같습니다.\n",
       "\n",
       "A = \\[\n",
       "  [1, 2, 3],\n",
       "  [4, 5, 6]\n",
       "\\]\n",
       "\n",
       "B = \\[\n",
       "  [7, 8, 9],\n",
       "  [10, 11, 12]\n",
       "\\]\n",
       "\n",
       "A + B = \\[\n",
       "  [1+7, 2+8, 3+9],\n",
       "  [4+10, 5+11, 6+12]\n",
       "\\]\n",
       "\n",
       "      = \\[\n",
       "  [8, 10, 12],\n",
       "  [14, 16, 18]\n",
       "\\]"
      ]
     },
     {
      "cell_type": "code",
      "execution_count": 1,
      "metadata": {},
      "outputs": [
       {
        "name": "stdout",
        "output_type": "stream",
        "text": [
         "Matrix A + B:\n",
         "[[ 8 10 12]\n",
         " [14 16 18]]\n"
        ]
       }
      ],
      "source": [
       "import numpy as np\n",
       "\n",
       "# Define matrices A and B\n",
       "A = np.array([[1, 2, 3], [4, 5, 6]])\n",
       "B = np.array([[7, 8, 9], [10, 11, 12]])\n",
       "\n",
       "# Matrix addition\n",
       "C = A + B\n",
       "print(\"Matrix A + B:\")\n",
       "print(C)"
      ]
     },
     {
      "cell_type": "markdown",
      "metadata": {},
      "source": [
       "## 행렬의 곱셈\n",
       "\n",
       "두 행렬의 곱셈은 첫 번째 행렬의 행과 두 번째 행렬의 열을 각각 곱한 뒤 더해서 새로운 행렬의 원소로 하는 것입니다. 예를 들어, 두 행렬 A(2x3)와 B(3x2)의 곱셈은 다음과 같습니다.\n",
       "\n",
       "A = \\[\n",
       "  [1, 2, 3],\n",
       "  [4, 5, 6]\n",
       "\\]\n",
       "\n",
       "B = \\[\n",
       "  [7, 8],\n",
       "  [9, 10],\n",
       "  [11, 12]\n",
       "\\]\n",
       "\n",
       "A * B = \\[\n",
       "  [1*7 + 2*9 + 3*11, 1*8 + 2*10 + 3*12],\n",
       "  [4*7 + 5*9 + 6*11, 4*8 + 5*10 + 6*12]\n",
       "\\]\n",
       "\n",
       "      = \\[\n",
       "  [58, 64],\n",
       "  [139, 154]\n",
       "\\]"
      ]
     },
     {
      "cell_type": "code",
      "execution_count": 2,
      "metadata": {},
      "outputs": [
       {
        "name": "stdout",
        "output_type": "stream",
        "text": [
         "Matrix A * B:\n",
         "[[ 58  64]\n",
         " [139 154]]\n"
        ]
       }
      ],
      "source": [
       "# Define matrices A and B\n",
       "A = np.array([[1, 2, 3], [4, 5, 6]])\n",
       "B = np.array([[7, 8], [9, 10], [11, 12]])\n",
       "\n",
       "# Matrix multiplication\n",
       "D = np.dot(A, B)\n",
       "print(\"Matrix A * B:\")\n",
       "print(D)"
      ]
     },
     {
      "cell_type": "markdown",
      "metadata": {},
      "source": [
       "## 행렬의 상수배\n",
       "\n",
       "행렬의 상수배는 행렬의 각 원소에 상수를 곱하는 것입니다. 예를 들어, 행렬 A와 상수 k의 곱셈은 다음과 같습니다.\n",
       "\n",
       "A = \\[\n",
       "  [1, 2, 3],\n",
       "  [4, 5, 6]\n",
       "\\]\n",
       "\n",
       "k = 2\n",
       "\n",
       "k * A = \\[\n",
       "  [2*1, 2*2, 2*3],\n",
       "  [2*4, 2*5, 2*6]\n",
       "\\]\n",
       "\n",
       "      = \\[\n",
       "  [2, 4, 6],\n",
       "  [8, 10, 12]\n",
       "\\]"
      ]
     },
     {
      "cell_type": "code",
      "execution_count": 3,
      "metadata": {},
      "outputs": [
       {
        "name": "stdout",
        "output_type": "stream",
        "text": [
         "Matrix k * A:\n",
         "[[ 2  4  6]\n",
         " [ 8 10 12]]\n"
        ]
       }
      ],
      "source": [
       "# Define matrix A and scalar k\n",
       "A = np.array([[1, 2, 3], [4, 5, 6]])\n",
       "k = 2\n",
       "\n",
       "# Scalar multiplication\n",
       "E = k * A\n",
       "print(\"Matrix k * A:\")\n",
       "print(E)"
      ]
     }
    ],
    "metadata": {
     "kernelspec": {
      "display_name": "Python 3",
      "language": "python",
      "name": "python3"
     },
     "language_info": {
      "codemirror_mode": {
       "name": "ipython",
       "version": 3
      },
      "file_extension": ".py",
      "mimetype": "text/x-python",
      "name": "python",
      "nbconvert_exporter": "python",
      "pygments_lexer": "ipython3",
      "version": "3.8.8"
     }
    },
    "nbformat": 4,
    "nbformat_minor": 5
   }